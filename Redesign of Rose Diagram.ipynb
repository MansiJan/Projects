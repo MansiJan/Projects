{
 "cells": [
  {
   "cell_type": "code",
   "execution_count": 1,
   "metadata": {},
   "outputs": [],
   "source": [
    "#Importing libraries that are going to be used further in our notebook\n",
    "import pandas as pd\n",
    "import numpy as np\n",
    "import plotly.graph_objects as go\n",
    "import seaborn as sns\n",
    "from matplotlib import pyplot as plt\n",
    "from plotly.subplots import make_subplots\n",
    "import plotly.express as px\n",
    "import dash\n",
    "import dash_core_components as dcc\n",
    "import dash_html_components as html\n",
    "from jupyter_dash import JupyterDash\n",
    "import dash_core_components as dcc\n",
    "import dash_html_components as html\n",
    "from dash.dependencies import Input, Output\n",
    "# import plotly"
   ]
  },
  {
   "cell_type": "code",
   "execution_count": 122,
   "metadata": {},
   "outputs": [],
   "source": [
    "# Thanks to Michael Friendly for providing the data  \n",
    "df = pd.read_csv(\"/Users/Mansi/Documents/Florence Nightingale/nightingale.csv\")"
   ]
  },
  {
   "cell_type": "code",
   "execution_count": 123,
   "metadata": {},
   "outputs": [
    {
     "data": {
      "text/html": [
       "<div>\n",
       "<style scoped>\n",
       "    .dataframe tbody tr th:only-of-type {\n",
       "        vertical-align: middle;\n",
       "    }\n",
       "\n",
       "    .dataframe tbody tr th {\n",
       "        vertical-align: top;\n",
       "    }\n",
       "\n",
       "    .dataframe thead th {\n",
       "        text-align: right;\n",
       "    }\n",
       "</style>\n",
       "<table border=\"1\" class=\"dataframe\">\n",
       "  <thead>\n",
       "    <tr style=\"text-align: right;\">\n",
       "      <th></th>\n",
       "      <th>Unnamed: 0</th>\n",
       "      <th>Date</th>\n",
       "      <th>Month</th>\n",
       "      <th>Year</th>\n",
       "      <th>Army</th>\n",
       "      <th>Disease</th>\n",
       "      <th>Wounds</th>\n",
       "      <th>Other</th>\n",
       "      <th>Disease.rate</th>\n",
       "      <th>Wounds.rate</th>\n",
       "      <th>Other.rate</th>\n",
       "    </tr>\n",
       "  </thead>\n",
       "  <tbody>\n",
       "    <tr>\n",
       "      <th>0</th>\n",
       "      <td>1</td>\n",
       "      <td>1854-04-01</td>\n",
       "      <td>Apr</td>\n",
       "      <td>1854</td>\n",
       "      <td>8571</td>\n",
       "      <td>1</td>\n",
       "      <td>0</td>\n",
       "      <td>5</td>\n",
       "      <td>1.4</td>\n",
       "      <td>0.0</td>\n",
       "      <td>7.0</td>\n",
       "    </tr>\n",
       "    <tr>\n",
       "      <th>1</th>\n",
       "      <td>2</td>\n",
       "      <td>1854-05-01</td>\n",
       "      <td>May</td>\n",
       "      <td>1854</td>\n",
       "      <td>23333</td>\n",
       "      <td>12</td>\n",
       "      <td>0</td>\n",
       "      <td>9</td>\n",
       "      <td>6.2</td>\n",
       "      <td>0.0</td>\n",
       "      <td>4.6</td>\n",
       "    </tr>\n",
       "    <tr>\n",
       "      <th>2</th>\n",
       "      <td>3</td>\n",
       "      <td>1854-06-01</td>\n",
       "      <td>Jun</td>\n",
       "      <td>1854</td>\n",
       "      <td>28333</td>\n",
       "      <td>11</td>\n",
       "      <td>0</td>\n",
       "      <td>6</td>\n",
       "      <td>4.7</td>\n",
       "      <td>0.0</td>\n",
       "      <td>2.5</td>\n",
       "    </tr>\n",
       "    <tr>\n",
       "      <th>3</th>\n",
       "      <td>4</td>\n",
       "      <td>1854-07-01</td>\n",
       "      <td>Jul</td>\n",
       "      <td>1854</td>\n",
       "      <td>28722</td>\n",
       "      <td>359</td>\n",
       "      <td>0</td>\n",
       "      <td>23</td>\n",
       "      <td>150.0</td>\n",
       "      <td>0.0</td>\n",
       "      <td>9.6</td>\n",
       "    </tr>\n",
       "    <tr>\n",
       "      <th>4</th>\n",
       "      <td>5</td>\n",
       "      <td>1854-08-01</td>\n",
       "      <td>Aug</td>\n",
       "      <td>1854</td>\n",
       "      <td>30246</td>\n",
       "      <td>828</td>\n",
       "      <td>1</td>\n",
       "      <td>30</td>\n",
       "      <td>328.5</td>\n",
       "      <td>0.4</td>\n",
       "      <td>11.9</td>\n",
       "    </tr>\n",
       "  </tbody>\n",
       "</table>\n",
       "</div>"
      ],
      "text/plain": [
       "   Unnamed: 0        Date Month  Year   Army  Disease  Wounds  Other  \\\n",
       "0           1  1854-04-01   Apr  1854   8571        1       0      5   \n",
       "1           2  1854-05-01   May  1854  23333       12       0      9   \n",
       "2           3  1854-06-01   Jun  1854  28333       11       0      6   \n",
       "3           4  1854-07-01   Jul  1854  28722      359       0     23   \n",
       "4           5  1854-08-01   Aug  1854  30246      828       1     30   \n",
       "\n",
       "   Disease.rate  Wounds.rate  Other.rate  \n",
       "0           1.4          0.0         7.0  \n",
       "1           6.2          0.0         4.6  \n",
       "2           4.7          0.0         2.5  \n",
       "3         150.0          0.0         9.6  \n",
       "4         328.5          0.4        11.9  "
      ]
     },
     "execution_count": 123,
     "metadata": {},
     "output_type": "execute_result"
    }
   ],
   "source": [
    "# Take a quick look at the data\n",
    "df.head()"
   ]
  },
  {
   "cell_type": "code",
   "execution_count": 124,
   "metadata": {},
   "outputs": [],
   "source": [
    "del df['Unnamed: 0'] # Deleting the redundant index column"
   ]
  },
  {
   "cell_type": "code",
   "execution_count": 125,
   "metadata": {},
   "outputs": [
    {
     "name": "stdout",
     "output_type": "stream",
     "text": [
      "<class 'pandas.core.frame.DataFrame'>\n",
      "RangeIndex: 24 entries, 0 to 23\n",
      "Data columns (total 10 columns):\n",
      " #   Column        Non-Null Count  Dtype  \n",
      "---  ------        --------------  -----  \n",
      " 0   Date          24 non-null     object \n",
      " 1   Month         24 non-null     object \n",
      " 2   Year          24 non-null     int64  \n",
      " 3   Army          24 non-null     int64  \n",
      " 4   Disease       24 non-null     int64  \n",
      " 5   Wounds        24 non-null     int64  \n",
      " 6   Other         24 non-null     int64  \n",
      " 7   Disease.rate  24 non-null     float64\n",
      " 8   Wounds.rate   24 non-null     float64\n",
      " 9   Other.rate    24 non-null     float64\n",
      "dtypes: float64(3), int64(5), object(2)\n",
      "memory usage: 2.0+ KB\n"
     ]
    }
   ],
   "source": [
    "df.info()"
   ]
  },
  {
   "cell_type": "code",
   "execution_count": 126,
   "metadata": {},
   "outputs": [],
   "source": [
    "# Adding new column to the dataframe defining each row of data as before sanitation improvements or after improvements\n",
    "df['Period'] = \"\"\n",
    "for i in range(len(df)):  \n",
    "    if(df.iloc[i][\"Year\"] == 1854):\n",
    "        df.at[i, 'Period'] = 'Before'\n",
    "    if(df.iloc[i][\"Year\"] == 1856):\n",
    "        df.at[i, 'Period'] = 'After'\n",
    "    if(df.iloc[i][\"Year\"] == 1855):\n",
    "        if((df.iloc[i][\"Month\"] == 'Jan') | (df.iloc[i][\"Month\"] == 'Feb') | (df.iloc[i][\"Month\"] == 'Mar')):\n",
    "            df.at[i, 'Period'] = 'Before'\n",
    "        else:\n",
    "            df.at[i, 'Period'] = 'After'"
   ]
  },
  {
   "cell_type": "code",
   "execution_count": 127,
   "metadata": {},
   "outputs": [],
   "source": [
    "# Creating a new column in the dataframe to represent the total deaths in each month of wartime\n",
    "df['Total_Deaths'] = \"\"\n",
    "for i in range(len(df)):\n",
    "    df.at[i, 'Total_Deaths'] = df.at[i, 'Disease'] + df.at[i, 'Wounds'] + df.at[i, 'Other']"
   ]
  },
  {
   "cell_type": "code",
   "execution_count": 128,
   "metadata": {},
   "outputs": [
    {
     "data": {
      "text/html": [
       "<div>\n",
       "<style scoped>\n",
       "    .dataframe tbody tr th:only-of-type {\n",
       "        vertical-align: middle;\n",
       "    }\n",
       "\n",
       "    .dataframe tbody tr th {\n",
       "        vertical-align: top;\n",
       "    }\n",
       "\n",
       "    .dataframe thead th {\n",
       "        text-align: right;\n",
       "    }\n",
       "</style>\n",
       "<table border=\"1\" class=\"dataframe\">\n",
       "  <thead>\n",
       "    <tr style=\"text-align: right;\">\n",
       "      <th></th>\n",
       "      <th>Date</th>\n",
       "      <th>Month</th>\n",
       "      <th>Year</th>\n",
       "      <th>Army</th>\n",
       "      <th>Disease</th>\n",
       "      <th>Wounds</th>\n",
       "      <th>Other</th>\n",
       "      <th>Disease.rate</th>\n",
       "      <th>Wounds.rate</th>\n",
       "      <th>Other.rate</th>\n",
       "      <th>Period</th>\n",
       "      <th>Total_Deaths</th>\n",
       "    </tr>\n",
       "  </thead>\n",
       "  <tbody>\n",
       "    <tr>\n",
       "      <th>0</th>\n",
       "      <td>1854-04-01</td>\n",
       "      <td>Apr</td>\n",
       "      <td>1854</td>\n",
       "      <td>8571</td>\n",
       "      <td>1</td>\n",
       "      <td>0</td>\n",
       "      <td>5</td>\n",
       "      <td>1.4</td>\n",
       "      <td>0.0</td>\n",
       "      <td>7.0</td>\n",
       "      <td>Before</td>\n",
       "      <td>6</td>\n",
       "    </tr>\n",
       "    <tr>\n",
       "      <th>1</th>\n",
       "      <td>1854-05-01</td>\n",
       "      <td>May</td>\n",
       "      <td>1854</td>\n",
       "      <td>23333</td>\n",
       "      <td>12</td>\n",
       "      <td>0</td>\n",
       "      <td>9</td>\n",
       "      <td>6.2</td>\n",
       "      <td>0.0</td>\n",
       "      <td>4.6</td>\n",
       "      <td>Before</td>\n",
       "      <td>21</td>\n",
       "    </tr>\n",
       "    <tr>\n",
       "      <th>2</th>\n",
       "      <td>1854-06-01</td>\n",
       "      <td>Jun</td>\n",
       "      <td>1854</td>\n",
       "      <td>28333</td>\n",
       "      <td>11</td>\n",
       "      <td>0</td>\n",
       "      <td>6</td>\n",
       "      <td>4.7</td>\n",
       "      <td>0.0</td>\n",
       "      <td>2.5</td>\n",
       "      <td>Before</td>\n",
       "      <td>17</td>\n",
       "    </tr>\n",
       "    <tr>\n",
       "      <th>3</th>\n",
       "      <td>1854-07-01</td>\n",
       "      <td>Jul</td>\n",
       "      <td>1854</td>\n",
       "      <td>28722</td>\n",
       "      <td>359</td>\n",
       "      <td>0</td>\n",
       "      <td>23</td>\n",
       "      <td>150.0</td>\n",
       "      <td>0.0</td>\n",
       "      <td>9.6</td>\n",
       "      <td>Before</td>\n",
       "      <td>382</td>\n",
       "    </tr>\n",
       "    <tr>\n",
       "      <th>4</th>\n",
       "      <td>1854-08-01</td>\n",
       "      <td>Aug</td>\n",
       "      <td>1854</td>\n",
       "      <td>30246</td>\n",
       "      <td>828</td>\n",
       "      <td>1</td>\n",
       "      <td>30</td>\n",
       "      <td>328.5</td>\n",
       "      <td>0.4</td>\n",
       "      <td>11.9</td>\n",
       "      <td>Before</td>\n",
       "      <td>859</td>\n",
       "    </tr>\n",
       "    <tr>\n",
       "      <th>5</th>\n",
       "      <td>1854-09-01</td>\n",
       "      <td>Sep</td>\n",
       "      <td>1854</td>\n",
       "      <td>30290</td>\n",
       "      <td>788</td>\n",
       "      <td>81</td>\n",
       "      <td>70</td>\n",
       "      <td>312.2</td>\n",
       "      <td>32.1</td>\n",
       "      <td>27.7</td>\n",
       "      <td>Before</td>\n",
       "      <td>939</td>\n",
       "    </tr>\n",
       "    <tr>\n",
       "      <th>6</th>\n",
       "      <td>1854-10-01</td>\n",
       "      <td>Oct</td>\n",
       "      <td>1854</td>\n",
       "      <td>30643</td>\n",
       "      <td>503</td>\n",
       "      <td>132</td>\n",
       "      <td>128</td>\n",
       "      <td>197.0</td>\n",
       "      <td>51.7</td>\n",
       "      <td>50.1</td>\n",
       "      <td>Before</td>\n",
       "      <td>763</td>\n",
       "    </tr>\n",
       "    <tr>\n",
       "      <th>7</th>\n",
       "      <td>1854-11-01</td>\n",
       "      <td>Nov</td>\n",
       "      <td>1854</td>\n",
       "      <td>29736</td>\n",
       "      <td>844</td>\n",
       "      <td>287</td>\n",
       "      <td>106</td>\n",
       "      <td>340.6</td>\n",
       "      <td>115.8</td>\n",
       "      <td>42.8</td>\n",
       "      <td>Before</td>\n",
       "      <td>1237</td>\n",
       "    </tr>\n",
       "    <tr>\n",
       "      <th>8</th>\n",
       "      <td>1854-12-01</td>\n",
       "      <td>Dec</td>\n",
       "      <td>1854</td>\n",
       "      <td>32779</td>\n",
       "      <td>1725</td>\n",
       "      <td>114</td>\n",
       "      <td>131</td>\n",
       "      <td>631.5</td>\n",
       "      <td>41.7</td>\n",
       "      <td>48.0</td>\n",
       "      <td>Before</td>\n",
       "      <td>1970</td>\n",
       "    </tr>\n",
       "    <tr>\n",
       "      <th>9</th>\n",
       "      <td>1855-01-01</td>\n",
       "      <td>Jan</td>\n",
       "      <td>1855</td>\n",
       "      <td>32393</td>\n",
       "      <td>2761</td>\n",
       "      <td>83</td>\n",
       "      <td>324</td>\n",
       "      <td>1022.8</td>\n",
       "      <td>30.7</td>\n",
       "      <td>120.0</td>\n",
       "      <td>Before</td>\n",
       "      <td>3168</td>\n",
       "    </tr>\n",
       "    <tr>\n",
       "      <th>10</th>\n",
       "      <td>1855-02-01</td>\n",
       "      <td>Feb</td>\n",
       "      <td>1855</td>\n",
       "      <td>30919</td>\n",
       "      <td>2120</td>\n",
       "      <td>42</td>\n",
       "      <td>361</td>\n",
       "      <td>822.8</td>\n",
       "      <td>16.3</td>\n",
       "      <td>140.1</td>\n",
       "      <td>Before</td>\n",
       "      <td>2523</td>\n",
       "    </tr>\n",
       "    <tr>\n",
       "      <th>11</th>\n",
       "      <td>1855-03-01</td>\n",
       "      <td>Mar</td>\n",
       "      <td>1855</td>\n",
       "      <td>30107</td>\n",
       "      <td>1205</td>\n",
       "      <td>32</td>\n",
       "      <td>172</td>\n",
       "      <td>480.3</td>\n",
       "      <td>12.8</td>\n",
       "      <td>68.6</td>\n",
       "      <td>Before</td>\n",
       "      <td>1409</td>\n",
       "    </tr>\n",
       "    <tr>\n",
       "      <th>12</th>\n",
       "      <td>1855-04-01</td>\n",
       "      <td>Apr</td>\n",
       "      <td>1855</td>\n",
       "      <td>32252</td>\n",
       "      <td>477</td>\n",
       "      <td>48</td>\n",
       "      <td>57</td>\n",
       "      <td>177.5</td>\n",
       "      <td>17.9</td>\n",
       "      <td>21.2</td>\n",
       "      <td>After</td>\n",
       "      <td>582</td>\n",
       "    </tr>\n",
       "    <tr>\n",
       "      <th>13</th>\n",
       "      <td>1855-05-01</td>\n",
       "      <td>May</td>\n",
       "      <td>1855</td>\n",
       "      <td>35473</td>\n",
       "      <td>508</td>\n",
       "      <td>49</td>\n",
       "      <td>37</td>\n",
       "      <td>171.8</td>\n",
       "      <td>16.6</td>\n",
       "      <td>12.5</td>\n",
       "      <td>After</td>\n",
       "      <td>594</td>\n",
       "    </tr>\n",
       "    <tr>\n",
       "      <th>14</th>\n",
       "      <td>1855-06-01</td>\n",
       "      <td>Jun</td>\n",
       "      <td>1855</td>\n",
       "      <td>38863</td>\n",
       "      <td>802</td>\n",
       "      <td>209</td>\n",
       "      <td>31</td>\n",
       "      <td>247.6</td>\n",
       "      <td>64.5</td>\n",
       "      <td>9.6</td>\n",
       "      <td>After</td>\n",
       "      <td>1042</td>\n",
       "    </tr>\n",
       "    <tr>\n",
       "      <th>15</th>\n",
       "      <td>1855-07-01</td>\n",
       "      <td>Jul</td>\n",
       "      <td>1855</td>\n",
       "      <td>42647</td>\n",
       "      <td>382</td>\n",
       "      <td>134</td>\n",
       "      <td>33</td>\n",
       "      <td>107.5</td>\n",
       "      <td>37.7</td>\n",
       "      <td>9.3</td>\n",
       "      <td>After</td>\n",
       "      <td>549</td>\n",
       "    </tr>\n",
       "    <tr>\n",
       "      <th>16</th>\n",
       "      <td>1855-08-01</td>\n",
       "      <td>Aug</td>\n",
       "      <td>1855</td>\n",
       "      <td>44614</td>\n",
       "      <td>483</td>\n",
       "      <td>164</td>\n",
       "      <td>25</td>\n",
       "      <td>129.9</td>\n",
       "      <td>44.1</td>\n",
       "      <td>6.7</td>\n",
       "      <td>After</td>\n",
       "      <td>672</td>\n",
       "    </tr>\n",
       "    <tr>\n",
       "      <th>17</th>\n",
       "      <td>1855-09-01</td>\n",
       "      <td>Sep</td>\n",
       "      <td>1855</td>\n",
       "      <td>47751</td>\n",
       "      <td>189</td>\n",
       "      <td>276</td>\n",
       "      <td>20</td>\n",
       "      <td>47.5</td>\n",
       "      <td>69.4</td>\n",
       "      <td>5.0</td>\n",
       "      <td>After</td>\n",
       "      <td>485</td>\n",
       "    </tr>\n",
       "    <tr>\n",
       "      <th>18</th>\n",
       "      <td>1855-10-01</td>\n",
       "      <td>Oct</td>\n",
       "      <td>1855</td>\n",
       "      <td>46852</td>\n",
       "      <td>128</td>\n",
       "      <td>53</td>\n",
       "      <td>18</td>\n",
       "      <td>32.8</td>\n",
       "      <td>13.6</td>\n",
       "      <td>4.6</td>\n",
       "      <td>After</td>\n",
       "      <td>199</td>\n",
       "    </tr>\n",
       "    <tr>\n",
       "      <th>19</th>\n",
       "      <td>1855-11-01</td>\n",
       "      <td>Nov</td>\n",
       "      <td>1855</td>\n",
       "      <td>37853</td>\n",
       "      <td>178</td>\n",
       "      <td>33</td>\n",
       "      <td>32</td>\n",
       "      <td>56.4</td>\n",
       "      <td>10.5</td>\n",
       "      <td>10.1</td>\n",
       "      <td>After</td>\n",
       "      <td>243</td>\n",
       "    </tr>\n",
       "    <tr>\n",
       "      <th>20</th>\n",
       "      <td>1855-12-01</td>\n",
       "      <td>Dec</td>\n",
       "      <td>1855</td>\n",
       "      <td>43217</td>\n",
       "      <td>91</td>\n",
       "      <td>18</td>\n",
       "      <td>28</td>\n",
       "      <td>25.3</td>\n",
       "      <td>5.0</td>\n",
       "      <td>7.8</td>\n",
       "      <td>After</td>\n",
       "      <td>137</td>\n",
       "    </tr>\n",
       "    <tr>\n",
       "      <th>21</th>\n",
       "      <td>1856-01-01</td>\n",
       "      <td>Jan</td>\n",
       "      <td>1856</td>\n",
       "      <td>44212</td>\n",
       "      <td>42</td>\n",
       "      <td>2</td>\n",
       "      <td>48</td>\n",
       "      <td>11.4</td>\n",
       "      <td>0.5</td>\n",
       "      <td>13.0</td>\n",
       "      <td>After</td>\n",
       "      <td>92</td>\n",
       "    </tr>\n",
       "    <tr>\n",
       "      <th>22</th>\n",
       "      <td>1856-02-01</td>\n",
       "      <td>Feb</td>\n",
       "      <td>1856</td>\n",
       "      <td>43485</td>\n",
       "      <td>24</td>\n",
       "      <td>0</td>\n",
       "      <td>19</td>\n",
       "      <td>6.6</td>\n",
       "      <td>0.0</td>\n",
       "      <td>5.2</td>\n",
       "      <td>After</td>\n",
       "      <td>43</td>\n",
       "    </tr>\n",
       "    <tr>\n",
       "      <th>23</th>\n",
       "      <td>1856-03-01</td>\n",
       "      <td>Mar</td>\n",
       "      <td>1856</td>\n",
       "      <td>46140</td>\n",
       "      <td>15</td>\n",
       "      <td>0</td>\n",
       "      <td>35</td>\n",
       "      <td>3.9</td>\n",
       "      <td>0.0</td>\n",
       "      <td>9.1</td>\n",
       "      <td>After</td>\n",
       "      <td>50</td>\n",
       "    </tr>\n",
       "  </tbody>\n",
       "</table>\n",
       "</div>"
      ],
      "text/plain": [
       "          Date Month  Year   Army  Disease  Wounds  Other  Disease.rate  \\\n",
       "0   1854-04-01   Apr  1854   8571        1       0      5           1.4   \n",
       "1   1854-05-01   May  1854  23333       12       0      9           6.2   \n",
       "2   1854-06-01   Jun  1854  28333       11       0      6           4.7   \n",
       "3   1854-07-01   Jul  1854  28722      359       0     23         150.0   \n",
       "4   1854-08-01   Aug  1854  30246      828       1     30         328.5   \n",
       "5   1854-09-01   Sep  1854  30290      788      81     70         312.2   \n",
       "6   1854-10-01   Oct  1854  30643      503     132    128         197.0   \n",
       "7   1854-11-01   Nov  1854  29736      844     287    106         340.6   \n",
       "8   1854-12-01   Dec  1854  32779     1725     114    131         631.5   \n",
       "9   1855-01-01   Jan  1855  32393     2761      83    324        1022.8   \n",
       "10  1855-02-01   Feb  1855  30919     2120      42    361         822.8   \n",
       "11  1855-03-01   Mar  1855  30107     1205      32    172         480.3   \n",
       "12  1855-04-01   Apr  1855  32252      477      48     57         177.5   \n",
       "13  1855-05-01   May  1855  35473      508      49     37         171.8   \n",
       "14  1855-06-01   Jun  1855  38863      802     209     31         247.6   \n",
       "15  1855-07-01   Jul  1855  42647      382     134     33         107.5   \n",
       "16  1855-08-01   Aug  1855  44614      483     164     25         129.9   \n",
       "17  1855-09-01   Sep  1855  47751      189     276     20          47.5   \n",
       "18  1855-10-01   Oct  1855  46852      128      53     18          32.8   \n",
       "19  1855-11-01   Nov  1855  37853      178      33     32          56.4   \n",
       "20  1855-12-01   Dec  1855  43217       91      18     28          25.3   \n",
       "21  1856-01-01   Jan  1856  44212       42       2     48          11.4   \n",
       "22  1856-02-01   Feb  1856  43485       24       0     19           6.6   \n",
       "23  1856-03-01   Mar  1856  46140       15       0     35           3.9   \n",
       "\n",
       "    Wounds.rate  Other.rate  Period Total_Deaths  \n",
       "0           0.0         7.0  Before            6  \n",
       "1           0.0         4.6  Before           21  \n",
       "2           0.0         2.5  Before           17  \n",
       "3           0.0         9.6  Before          382  \n",
       "4           0.4        11.9  Before          859  \n",
       "5          32.1        27.7  Before          939  \n",
       "6          51.7        50.1  Before          763  \n",
       "7         115.8        42.8  Before         1237  \n",
       "8          41.7        48.0  Before         1970  \n",
       "9          30.7       120.0  Before         3168  \n",
       "10         16.3       140.1  Before         2523  \n",
       "11         12.8        68.6  Before         1409  \n",
       "12         17.9        21.2   After          582  \n",
       "13         16.6        12.5   After          594  \n",
       "14         64.5         9.6   After         1042  \n",
       "15         37.7         9.3   After          549  \n",
       "16         44.1         6.7   After          672  \n",
       "17         69.4         5.0   After          485  \n",
       "18         13.6         4.6   After          199  \n",
       "19         10.5        10.1   After          243  \n",
       "20          5.0         7.8   After          137  \n",
       "21          0.5        13.0   After           92  \n",
       "22          0.0         5.2   After           43  \n",
       "23          0.0         9.1   After           50  "
      ]
     },
     "execution_count": 128,
     "metadata": {},
     "output_type": "execute_result"
    }
   ],
   "source": [
    "df"
   ]
  },
  {
   "cell_type": "markdown",
   "metadata": {},
   "source": [
    "### Attempt 1 : To create a single graph representing death rate due to diseases"
   ]
  },
  {
   "cell_type": "code",
   "execution_count": 129,
   "metadata": {},
   "outputs": [],
   "source": [
    "# function to display bar values in the seaborn barplot\n",
    "def show_values_on_bars(axs):\n",
    "    def _show_on_single_plot(ax):        \n",
    "        for p in ax.patches:\n",
    "            _x = p.get_x() + p.get_width() / 2\n",
    "            _y = p.get_y() + p.get_height()\n",
    "            value = '{:.2f}'.format(p.get_height())\n",
    "            ax.text(_x, _y, value, ha=\"center\") \n",
    "\n",
    "    if isinstance(axs, np.ndarray):\n",
    "        for idx, ax in np.ndenumerate(axs):\n",
    "            _show_on_single_plot(ax)\n",
    "    else:\n",
    "        _show_on_single_plot(axs)"
   ]
  },
  {
   "cell_type": "code",
   "execution_count": 130,
   "metadata": {},
   "outputs": [
    {
     "data": {
      "image/png": "[encoded data removed]",
      "text/plain": [
       "<Figure size 1440x576 with 2 Axes>"
      ]
     },
     "metadata": {
      "needs_background": "light"
     },
     "output_type": "display_data"
    }
   ],
   "source": [
    "plt.figure(figsize=(20,8))\n",
    "ax = sns.barplot(data=df, x=\"Date\", y='Disease.rate')\n",
    "plt.xticks(rotation=90)\n",
    "ax.set_title('Death Rate of Soldiers due to Preventable Diseases during Crimean War')\n",
    "ax2 = ax.twinx()\n",
    "ax2.plot(ax.get_xticks(), df['Disease.rate'])\n",
    "show_values_on_bars(ax)"
   ]
  },
  {
   "cell_type": "markdown",
   "metadata": {},
   "source": [
    "### Attempt 2 : To create seperate graphs for two different periods of war"
   ]
  },
  {
   "cell_type": "code",
   "execution_count": 143,
   "metadata": {},
   "outputs": [
    {
     "data": {
      "image/png": "[encoded data removed]",
      "text/plain": [
       "<Figure size 979.2x288 with 2 Axes>"
      ]
     },
     "metadata": {
      "needs_background": "light"
     },
     "output_type": "display_data"
    }
   ],
   "source": [
    "# Catplot to represent death rate due to diseases\n",
    "ax = sns.catplot(x=\"Month\", y=\"Disease.rate\",\n",
    "             col=\"Period\", data=df, kind=\"bar\",\n",
    "                 height=4, aspect=1.7);\n",
    "ax.fig.subplots_adjust(top=0.8)\n",
    "ax.fig.suptitle('Death Rate of Soldiers due to Preventable Diseases during Crimean War')\n",
    "plt.show()"
   ]
  },
  {
   "cell_type": "code",
   "execution_count": 145,
   "metadata": {},
   "outputs": [
    {
     "data": {
      "image/png": "[encoded data removed]",
      "text/plain": [
       "<Figure size 979.2x288 with 2 Axes>"
      ]
     },
     "metadata": {
      "needs_background": "light"
     },
     "output_type": "display_data"
    }
   ],
   "source": [
    "# Catplot to represent death rate due to Wounds\n",
    "ax = sns.catplot(x=\"Month\", y=\"Wounds.rate\",\n",
    "             col=\"Period\", data=df, kind=\"bar\",\n",
    "                 height=4, aspect=1.7);\n",
    "ax.fig.subplots_adjust(top=0.8)\n",
    "ax.fig.suptitle('Death Rate of Soldiers due to Wounds during Crimean War')\n",
    "plt.show()"
   ]
  },
  {
   "cell_type": "code",
   "execution_count": 144,
   "metadata": {},
   "outputs": [
    {
     "data": {
      "image/png": "[encoded data removed]",
      "text/plain": [
       "<Figure size 979.2x288 with 2 Axes>"
      ]
     },
     "metadata": {
      "needs_background": "light"
     },
     "output_type": "display_data"
    }
   ],
   "source": [
    "# Catplot to represent death rate due to other causes\n",
    "ax = sns.catplot(x=\"Month\", y=\"Other.rate\",\n",
    "             col=\"Period\", data=df, kind=\"bar\",\n",
    "                 height=4, aspect=1.7);\n",
    "ax.fig.subplots_adjust(top=0.8)\n",
    "ax.fig.suptitle('Death Rate of Soldiers due to Other Causes during Crimean War')\n",
    "plt.show()"
   ]
  },
  {
   "cell_type": "code",
   "execution_count": 147,
   "metadata": {},
   "outputs": [
    {
     "data": {
      "image/png": "[encoded data removed]",
      "text/plain": [
       "<Figure size 979.2x288 with 2 Axes>"
      ]
     },
     "metadata": {
      "needs_background": "light"
     },
     "output_type": "display_data"
    }
   ],
   "source": [
    "# Catplot to represent total deaths over the two years\n",
    "ax = sns.catplot(x=\"Month\", y=\"Total_Deaths\",\n",
    "             col=\"Period\", data=df, kind=\"bar\",\n",
    "                 height=4, aspect=1.7);\n",
    "ax.fig.subplots_adjust(top=0.8)\n",
    "ax.fig.suptitle('Total Deaths of Soldiers during Crimean War')\n",
    "plt.show()"
   ]
  },
  {
   "cell_type": "markdown",
   "metadata": {},
   "source": [
    "### Attempt 3 : An attempt to represent complete information in one graph"
   ]
  },
  {
   "cell_type": "code",
   "execution_count": 135,
   "metadata": {},
   "outputs": [
    {
     "data": {
      "application/vnd.plotly.v1+json": {
       "config": {
        "plotlyServerURL": "https://plot.ly"
       },
       "data": [
        {
         "alignmentgroup": "True",
         "hovertemplate": "variable=Disease.rate<br>Date=%{x}<br>value=%{y}<extra></extra>",
         "legendgroup": "Disease.rate",
         "marker": {
          "color": "#636efa"
         },
         "name": "Disease.rate",
         "offsetgroup": "Disease.rate",
         "orientation": "v",
         "showlegend": true,
         "textposition": "auto",
         "type": "bar",
         "x": [
          "1854-04-01",
          "1854-05-01",
          "1854-06-01",
          "1854-07-01",
          "1854-08-01",
          "1854-09-01",
          "1854-10-01",
          "1854-11-01",
          "1854-12-01",
          "1855-01-01",
          "1855-02-01",
          "1855-03-01",
          "1855-04-01",
          "1855-05-01",
          "1855-06-01",
          "1855-07-01",
          "1855-08-01",
          "1855-09-01",
          "1855-10-01",
          "1855-11-01",
          "1855-12-01",
          "1856-01-01",
          "1856-02-01",
          "1856-03-01"
         ],
         "xaxis": "x",
         "y": [
          1.4,
          6.2,
          4.7,
          150,
          328.5,
          312.2,
          197,
          340.6,
          631.5,
          1022.8,
          822.8,
          480.3,
          177.5,
          171.8,
          247.6,
          107.5,
          129.9,
          47.5,
          32.8,
          56.4,
          25.3,
          11.4,
          6.6,
          3.9
         ],
         "yaxis": "y"
        },
        {
         "alignmentgroup": "True",
         "hovertemplate": "variable=Wounds.rate<br>Date=%{x}<br>value=%{y}<extra></extra>",
         "legendgroup": "Wounds.rate",
         "marker": {
          "color": "#EF553B"
         },
         "name": "Wounds.rate",
         "offsetgroup": "Wounds.rate",
         "orientation": "v",
         "showlegend": true,
         "textposition": "auto",
         "type": "bar",
         "x": [
          "1854-04-01",
          "1854-05-01",
          "1854-06-01",
          "1854-07-01",
          "1854-08-01",
          "1854-09-01",
          "1854-10-01",
          "1854-11-01",
          "1854-12-01",
          "1855-01-01",
          "1855-02-01",
          "1855-03-01",
          "1855-04-01",
          "1855-05-01",
          "1855-06-01",
          "1855-07-01",
          "1855-08-01",
          "1855-09-01",
          "1855-10-01",
          "1855-11-01",
          "1855-12-01",
          "1856-01-01",
          "1856-02-01",
          "1856-03-01"
         ],
         "xaxis": "x",
         "y": [
          0,
          0,
          0,
          0,
          0.4,
          32.1,
          51.7,
          115.8,
          41.7,
          30.7,
          16.3,
          12.8,
          17.9,
          16.6,
          64.5,
          37.7,
          44.1,
          69.4,
          13.6,
          10.5,
          5,
          0.5,
          0,
          0
         ],
         "yaxis": "y"
        },
        {
         "alignmentgroup": "True",
         "hovertemplate": "variable=Other.rate<br>Date=%{x}<br>value=%{y}<extra></extra>",
         "legendgroup": "Other.rate",
         "marker": {
          "color": "#00cc96"
         },
         "name": "Other.rate",
         "offsetgroup": "Other.rate",
         "orientation": "v",
         "showlegend": true,
         "textposition": "auto",
         "type": "bar",
         "x": [
          "1854-04-01",
          "1854-05-01",
          "1854-06-01",
          "1854-07-01",
          "1854-08-01",
          "1854-09-01",
          "1854-10-01",
          "1854-11-01",
          "1854-12-01",
          "1855-01-01",
          "1855-02-01",
          "1855-03-01",
          "1855-04-01",
          "1855-05-01",
          "1855-06-01",
          "1855-07-01",
          "1855-08-01",
          "1855-09-01",
          "1855-10-01",
          "1855-11-01",
          "1855-12-01",
          "1856-01-01",
          "1856-02-01",
          "1856-03-01"
         ],
         "xaxis": "x",
         "y": [
          7,
          4.6,
          2.5,
          9.6,
          11.9,
          27.7,
          50.1,
          42.8,
          48,
          120,
          140.1,
          68.6,
          21.2,
          12.5,
          9.6,
          9.3,
          6.7,
          5,
          4.6,
          10.1,
          7.8,
          13,
          5.2,
          9.1
         ],
         "yaxis": "y"
        }
       ],
       "layout": {
        "barmode": "relative",
        "legend": {
         "title": {
          "text": "Causes"
         },
         "tracegroupgap": 0
        },
        "template": {
         "data": {
          "bar": [
           {
            "error_x": {
             "color": "#2a3f5f"
            },
            "error_y": {
             "color": "#2a3f5f"
            },
            "marker": {
             "line": {
              "color": "#E5ECF6",
              "width": 0.5
             }
            },
            "type": "bar"
           }
          ],
          "barpolar": [
           {
            "marker": {
             "line": {
              "color": "#E5ECF6",
              "width": 0.5
             }
            },
            "type": "barpolar"
           }
          ],
          "carpet": [
           {
            "aaxis": {
             "endlinecolor": "#2a3f5f",
             "gridcolor": "white",
             "linecolor": "white",
             "minorgridcolor": "white",
             "startlinecolor": "#2a3f5f"
            },
            "baxis": {
             "endlinecolor": "#2a3f5f",
             "gridcolor": "white",
             "linecolor": "white",
             "minorgridcolor": "white",
             "startlinecolor": "#2a3f5f"
            },
            "type": "carpet"
           }
          ],
          "choropleth": [
           {
            "colorbar": {
             "outlinewidth": 0,
             "ticks": ""
            },
            "type": "choropleth"
           }
          ],
          "contour": [
           {
            "colorbar": {
             "outlinewidth": 0,
             "ticks": ""
            },
            "colorscale": [
             [
              0,
              "#0d0887"
             ],
             [
              0.1111111111111111,
              "#46039f"
             ],
             [
              0.2222222222222222,
              "#7201a8"
             ],
             [
              0.3333333333333333,
              "#9c179e"
             ],
             [
              0.4444444444444444,
              "#bd3786"
             ],
             [
              0.5555555555555556,
              "#d8576b"
             ],
             [
              0.6666666666666666,
              "#ed7953"
             ],
             [
              0.7777777777777778,
              "#fb9f3a"
             ],
             [
              0.8888888888888888,
              "#fdca26"
             ],
             [
              1,
              "#f0f921"
             ]
            ],
            "type": "contour"
           }
          ],
          "contourcarpet": [
           {
            "colorbar": {
             "outlinewidth": 0,
             "ticks": ""
            },
            "type": "contourcarpet"
           }
          ],
          "heatmap": [
           {
            "colorbar": {
             "outlinewidth": 0,
             "ticks": ""
            },
            "colorscale": [
             [
              0,
              "#0d0887"
             ],
             [
              0.1111111111111111,
              "#46039f"
             ],
             [
              0.2222222222222222,
              "#7201a8"
             ],
             [
              0.3333333333333333,
              "#9c179e"
             ],
             [
              0.4444444444444444,
              "#bd3786"
             ],
             [
              0.5555555555555556,
              "#d8576b"
             ],
             [
              0.6666666666666666,
              "#ed7953"
             ],
             [
              0.7777777777777778,
              "#fb9f3a"
             ],
             [
              0.8888888888888888,
              "#fdca26"
             ],
             [
              1,
              "#f0f921"
             ]
            ],
            "type": "heatmap"
           }
          ],
          "heatmapgl": [
           {
            "colorbar": {
             "outlinewidth": 0,
             "ticks": ""
            },
            "colorscale": [
             [
              0,
              "#0d0887"
             ],
             [
              0.1111111111111111,
              "#46039f"
             ],
             [
              0.2222222222222222,
              "#7201a8"
             ],
             [
              0.3333333333333333,
              "#9c179e"
             ],
             [
              0.4444444444444444,
              "#bd3786"
             ],
             [
              0.5555555555555556,
              "#d8576b"
             ],
             [
              0.6666666666666666,
              "#ed7953"
             ],
             [
              0.7777777777777778,
              "#fb9f3a"
             ],
             [
              0.8888888888888888,
              "#fdca26"
             ],
             [
              1,
              "#f0f921"
             ]
            ],
            "type": "heatmapgl"
           }
          ],
          "histogram": [
           {
            "marker": {
             "colorbar": {
              "outlinewidth": 0,
              "ticks": ""
             }
            },
            "type": "histogram"
           }
          ],
          "histogram2d": [
           {
            "colorbar": {
             "outlinewidth": 0,
             "ticks": ""
            },
            "colorscale": [
             [
              0,
              "#0d0887"
             ],
             [
              0.1111111111111111,
              "#46039f"
             ],
             [
              0.2222222222222222,
              "#7201a8"
             ],
             [
              0.3333333333333333,
              "#9c179e"
             ],
             [
              0.4444444444444444,
              "#bd3786"
             ],
             [
              0.5555555555555556,
              "#d8576b"
             ],
             [
              0.6666666666666666,
              "#ed7953"
             ],
             [
              0.7777777777777778,
              "#fb9f3a"
             ],
             [
              0.8888888888888888,
              "#fdca26"
             ],
             [
              1,
              "#f0f921"
             ]
            ],
            "type": "histogram2d"
           }
          ],
          "histogram2dcontour": [
           {
            "colorbar": {
             "outlinewidth": 0,
             "ticks": ""
            },
            "colorscale": [
             [
              0,
              "#0d0887"
             ],
             [
              0.1111111111111111,
              "#46039f"
             ],
             [
              0.2222222222222222,
              "#7201a8"
             ],
             [
              0.3333333333333333,
              "#9c179e"
             ],
             [
              0.4444444444444444,
              "#bd3786"
             ],
             [
              0.5555555555555556,
              "#d8576b"
             ],
             [
              0.6666666666666666,
              "#ed7953"
             ],
             [
              0.7777777777777778,
              "#fb9f3a"
             ],
             [
              0.8888888888888888,
              "#fdca26"
             ],
             [
              1,
              "#f0f921"
             ]
            ],
            "type": "histogram2dcontour"
           }
          ],
          "mesh3d": [
           {
            "colorbar": {
             "outlinewidth": 0,
             "ticks": ""
            },
            "type": "mesh3d"
           }
          ],
          "parcoords": [
           {
            "line": {
             "colorbar": {
              "outlinewidth": 0,
              "ticks": ""
             }
            },
            "type": "parcoords"
           }
          ],
          "pie": [
           {
            "automargin": true,
            "type": "pie"
           }
          ],
          "scatter": [
           {
            "marker": {
             "colorbar": {
              "outlinewidth": 0,
              "ticks": ""
             }
            },
            "type": "scatter"
           }
          ],
          "scatter3d": [
           {
            "line": {
             "colorbar": {
              "outlinewidth": 0,
              "ticks": ""
             }
            },
            "marker": {
             "colorbar": {
              "outlinewidth": 0,
              "ticks": ""
             }
            },
            "type": "scatter3d"
           }
          ],
          "scattercarpet": [
           {
            "marker": {
             "colorbar": {
              "outlinewidth": 0,
              "ticks": ""
             }
            },
            "type": "scattercarpet"
           }
          ],
          "scattergeo": [
           {
            "marker": {
             "colorbar": {
              "outlinewidth": 0,
              "ticks": ""
             }
            },
            "type": "scattergeo"
           }
          ],
          "scattergl": [
           {
            "marker": {
             "colorbar": {
              "outlinewidth": 0,
              "ticks": ""
             }
            },
            "type": "scattergl"
           }
          ],
          "scattermapbox": [
           {
            "marker": {
             "colorbar": {
              "outlinewidth": 0,
              "ticks": ""
             }
            },
            "type": "scattermapbox"
           }
          ],
          "scatterpolar": [
           {
            "marker": {
             "colorbar": {
              "outlinewidth": 0,
              "ticks": ""
             }
            },
            "type": "scatterpolar"
           }
          ],
          "scatterpolargl": [
           {
            "marker": {
             "colorbar": {
              "outlinewidth": 0,
              "ticks": ""
             }
            },
            "type": "scatterpolargl"
           }
          ],
          "scatterternary": [
           {
            "marker": {
             "colorbar": {
              "outlinewidth": 0,
              "ticks": ""
             }
            },
            "type": "scatterternary"
           }
          ],
          "surface": [
           {
            "colorbar": {
             "outlinewidth": 0,
             "ticks": ""
            },
            "colorscale": [
             [
              0,
              "#0d0887"
             ],
             [
              0.1111111111111111,
              "#46039f"
             ],
             [
              0.2222222222222222,
              "#7201a8"
             ],
             [
              0.3333333333333333,
              "#9c179e"
             ],
             [
              0.4444444444444444,
              "#bd3786"
             ],
             [
              0.5555555555555556,
              "#d8576b"
             ],
             [
              0.6666666666666666,
              "#ed7953"
             ],
             [
              0.7777777777777778,
              "#fb9f3a"
             ],
             [
              0.8888888888888888,
              "#fdca26"
             ],
             [
              1,
              "#f0f921"
             ]
            ],
            "type": "surface"
           }
          ],
          "table": [
           {
            "cells": {
             "fill": {
              "color": "#EBF0F8"
             },
             "line": {
              "color": "white"
             }
            },
            "header": {
             "fill": {
              "color": "#C8D4E3"
             },
             "line": {
              "color": "white"
             }
            },
            "type": "table"
           }
          ]
         },
         "layout": {
          "annotationdefaults": {
           "arrowcolor": "#2a3f5f",
           "arrowhead": 0,
           "arrowwidth": 1
          },
          "autotypenumbers": "strict",
          "coloraxis": {
           "colorbar": {
            "outlinewidth": 0,
            "ticks": ""
           }
          },
          "colorscale": {
           "diverging": [
            [
             0,
             "#8e0152"
            ],
            [
             0.1,
             "#c51b7d"
            ],
            [
             0.2,
             "#de77ae"
            ],
            [
             0.3,
             "#f1b6da"
            ],
            [
             0.4,
             "#fde0ef"
            ],
            [
             0.5,
             "#f7f7f7"
            ],
            [
             0.6,
             "#e6f5d0"
            ],
            [
             0.7,
             "#b8e186"
            ],
            [
             0.8,
             "#7fbc41"
            ],
            [
             0.9,
             "#4d9221"
            ],
            [
             1,
             "#276419"
            ]
           ],
           "sequential": [
            [
             0,
             "#0d0887"
            ],
            [
             0.1111111111111111,
             "#46039f"
            ],
            [
             0.2222222222222222,
             "#7201a8"
            ],
            [
             0.3333333333333333,
             "#9c179e"
            ],
            [
             0.4444444444444444,
             "#bd3786"
            ],
            [
             0.5555555555555556,
             "#d8576b"
            ],
            [
             0.6666666666666666,
             "#ed7953"
            ],
            [
             0.7777777777777778,
             "#fb9f3a"
            ],
            [
             0.8888888888888888,
             "#fdca26"
            ],
            [
             1,
             "#f0f921"
            ]
           ],
           "sequentialminus": [
            [
             0,
             "#0d0887"
            ],
            [
             0.1111111111111111,
             "#46039f"
            ],
            [
             0.2222222222222222,
             "#7201a8"
            ],
            [
             0.3333333333333333,
             "#9c179e"
            ],
            [
             0.4444444444444444,
             "#bd3786"
            ],
            [
             0.5555555555555556,
             "#d8576b"
            ],
            [
             0.6666666666666666,
             "#ed7953"
            ],
            [
             0.7777777777777778,
             "#fb9f3a"
            ],
            [
             0.8888888888888888,
             "#fdca26"
            ],
            [
             1,
             "#f0f921"
            ]
           ]
          },
          "colorway": [
           "#636efa",
           "#EF553B",
           "#00cc96",
           "#ab63fa",
           "#FFA15A",
           "#19d3f3",
           "#FF6692",
           "#B6E880",
           "#FF97FF",
           "#FECB52"
          ],
          "font": {
           "color": "#2a3f5f"
          },
          "geo": {
           "bgcolor": "white",
           "lakecolor": "white",
           "landcolor": "#E5ECF6",
           "showlakes": true,
           "showland": true,
           "subunitcolor": "white"
          },
          "hoverlabel": {
           "align": "left"
          },
          "hovermode": "closest",
          "mapbox": {
           "style": "light"
          },
          "paper_bgcolor": "white",
          "plot_bgcolor": "#E5ECF6",
          "polar": {
           "angularaxis": {
            "gridcolor": "white",
            "linecolor": "white",
            "ticks": ""
           },
           "bgcolor": "#E5ECF6",
           "radialaxis": {
            "gridcolor": "white",
            "linecolor": "white",
            "ticks": ""
           }
          },
          "scene": {
           "xaxis": {
            "backgroundcolor": "#E5ECF6",
            "gridcolor": "white",
            "gridwidth": 2,
            "linecolor": "white",
            "showbackground": true,
            "ticks": "",
            "zerolinecolor": "white"
           },
           "yaxis": {
            "backgroundcolor": "#E5ECF6",
            "gridcolor": "white",
            "gridwidth": 2,
            "linecolor": "white",
            "showbackground": true,
            "ticks": "",
            "zerolinecolor": "white"
           },
           "zaxis": {
            "backgroundcolor": "#E5ECF6",
            "gridcolor": "white",
            "gridwidth": 2,
            "linecolor": "white",
            "showbackground": true,
            "ticks": "",
            "zerolinecolor": "white"
           }
          },
          "shapedefaults": {
           "line": {
            "color": "#2a3f5f"
           }
          },
          "ternary": {
           "aaxis": {
            "gridcolor": "white",
            "linecolor": "white",
            "ticks": ""
           },
           "baxis": {
            "gridcolor": "white",
            "linecolor": "white",
            "ticks": ""
           },
           "bgcolor": "#E5ECF6",
           "caxis": {
            "gridcolor": "white",
            "linecolor": "white",
            "ticks": ""
           }
          },
          "title": {
           "x": 0.05
          },
          "xaxis": {
           "automargin": true,
           "gridcolor": "white",
           "linecolor": "white",
           "ticks": "",
           "title": {
            "standoff": 15
           },
           "zerolinecolor": "white",
           "zerolinewidth": 2
          },
          "yaxis": {
           "automargin": true,
           "gridcolor": "white",
           "linecolor": "white",
           "ticks": "",
           "title": {
            "standoff": 15
           },
           "zerolinecolor": "white",
           "zerolinewidth": 2
          }
         }
        },
        "title": {
         "text": "Soldiers Deaths(per 1000) and their Causes in the Crimean War"
        },
        "xaxis": {
         "anchor": "y",
         "domain": [
          0,
          1
         ],
         "title": {
          "text": "Date"
         }
        },
        "yaxis": {
         "anchor": "x",
         "domain": [
          0,
          1
         ],
         "title": {
          "text": "Deat Rate"
         }
        }
       }
      },
      "text/html": [
       "<div>                            <div id=\"637db3b8-a05c-4323-aaa0-758770bf5983\" class=\"plotly-graph-div\" style=\"height:525px; width:100%;\"></div>            <script type=\"text/javascript\">                require([\"plotly\"], function(Plotly) {                    window.PLOTLYENV=window.PLOTLYENV || {};                                    if (document.getElementById(\"637db3b8-a05c-4323-aaa0-758770bf5983\")) {                    Plotly.newPlot(                        \"637db3b8-a05c-4323-aaa0-758770bf5983\",                        [{\"alignmentgroup\": \"True\", \"hovertemplate\": \"variable=Disease.rate<br>Date=%{x}<br>value=%{y}<extra></extra>\", \"legendgroup\": \"Disease.rate\", \"marker\": {\"color\": \"#636efa\"}, \"name\": \"Disease.rate\", \"offsetgroup\": \"Disease.rate\", \"orientation\": \"v\", \"showlegend\": true, \"textposition\": \"auto\", \"type\": \"bar\", \"x\": [\"1854-04-01\", \"1854-05-01\", \"1854-06-01\", \"1854-07-01\", \"1854-08-01\", \"1854-09-01\", \"1854-10-01\", \"1854-11-01\", \"1854-12-01\", \"1855-01-01\", \"1855-02-01\", \"1855-03-01\", \"1855-04-01\", \"1855-05-01\", \"1855-06-01\", \"1855-07-01\", \"1855-08-01\", \"1855-09-01\", \"1855-10-01\", \"1855-11-01\", \"1855-12-01\", \"1856-01-01\", \"1856-02-01\", \"1856-03-01\"], \"xaxis\": \"x\", \"y\": [1.4, 6.2, 4.7, 150.0, 328.5, 312.2, 197.0, 340.6, 631.5, 1022.8, 822.8, 480.3, 177.5, 171.8, 247.6, 107.5, 129.9, 47.5, 32.8, 56.4, 25.3, 11.4, 6.6, 3.9], \"yaxis\": \"y\"}, {\"alignmentgroup\": \"True\", \"hovertemplate\": \"variable=Wounds.rate<br>Date=%{x}<br>value=%{y}<extra></extra>\", \"legendgroup\": \"Wounds.rate\", \"marker\": {\"color\": \"#EF553B\"}, \"name\": \"Wounds.rate\", \"offsetgroup\": \"Wounds.rate\", \"orientation\": \"v\", \"showlegend\": true, \"textposition\": \"auto\", \"type\": \"bar\", \"x\": [\"1854-04-01\", \"1854-05-01\", \"1854-06-01\", \"1854-07-01\", \"1854-08-01\", \"1854-09-01\", \"1854-10-01\", \"1854-11-01\", \"1854-12-01\", \"1855-01-01\", \"1855-02-01\", \"1855-03-01\", \"1855-04-01\", \"1855-05-01\", \"1855-06-01\", \"1855-07-01\", \"1855-08-01\", \"1855-09-01\", \"1855-10-01\", \"1855-11-01\", \"1855-12-01\", \"1856-01-01\", \"1856-02-01\", \"1856-03-01\"], \"xaxis\": \"x\", \"y\": [0.0, 0.0, 0.0, 0.0, 0.4, 32.1, 51.7, 115.8, 41.7, 30.7, 16.3, 12.8, 17.9, 16.6, 64.5, 37.7, 44.1, 69.4, 13.6, 10.5, 5.0, 0.5, 0.0, 0.0], \"yaxis\": \"y\"}, {\"alignmentgroup\": \"True\", \"hovertemplate\": \"variable=Other.rate<br>Date=%{x}<br>value=%{y}<extra></extra>\", \"legendgroup\": \"Other.rate\", \"marker\": {\"color\": \"#00cc96\"}, \"name\": \"Other.rate\", \"offsetgroup\": \"Other.rate\", \"orientation\": \"v\", \"showlegend\": true, \"textposition\": \"auto\", \"type\": \"bar\", \"x\": [\"1854-04-01\", \"1854-05-01\", \"1854-06-01\", \"1854-07-01\", \"1854-08-01\", \"1854-09-01\", \"1854-10-01\", \"1854-11-01\", \"1854-12-01\", \"1855-01-01\", \"1855-02-01\", \"1855-03-01\", \"1855-04-01\", \"1855-05-01\", \"1855-06-01\", \"1855-07-01\", \"1855-08-01\", \"1855-09-01\", \"1855-10-01\", \"1855-11-01\", \"1855-12-01\", \"1856-01-01\", \"1856-02-01\", \"1856-03-01\"], \"xaxis\": \"x\", \"y\": [7.0, 4.6, 2.5, 9.6, 11.9, 27.7, 50.1, 42.8, 48.0, 120.0, 140.1, 68.6, 21.2, 12.5, 9.6, 9.3, 6.7, 5.0, 4.6, 10.1, 7.8, 13.0, 5.2, 9.1], \"yaxis\": \"y\"}],                        {\"barmode\": \"relative\", \"legend\": {\"title\": {\"text\": \"Causes\"}, \"tracegroupgap\": 0}, \"template\": {\"data\": {\"bar\": [{\"error_x\": {\"color\": \"#2a3f5f\"}, \"error_y\": {\"color\": \"#2a3f5f\"}, \"marker\": {\"line\": {\"color\": \"#E5ECF6\", \"width\": 0.5}}, \"type\": \"bar\"}], \"barpolar\": [{\"marker\": {\"line\": {\"color\": \"#E5ECF6\", \"width\": 0.5}}, \"type\": \"barpolar\"}], \"carpet\": [{\"aaxis\": {\"endlinecolor\": \"#2a3f5f\", \"gridcolor\": \"white\", \"linecolor\": \"white\", \"minorgridcolor\": \"white\", \"startlinecolor\": \"#2a3f5f\"}, \"baxis\": {\"endlinecolor\": \"#2a3f5f\", \"gridcolor\": \"white\", \"linecolor\": \"white\", \"minorgridcolor\": \"white\", \"startlinecolor\": \"#2a3f5f\"}, \"type\": \"carpet\"}], \"choropleth\": [{\"colorbar\": {\"outlinewidth\": 0, \"ticks\": \"\"}, \"type\": \"choropleth\"}], \"contour\": [{\"colorbar\": {\"outlinewidth\": 0, \"ticks\": \"\"}, \"colorscale\": [[0.0, \"#0d0887\"], [0.1111111111111111, \"#46039f\"], [0.2222222222222222, \"#7201a8\"], [0.3333333333333333, \"#9c179e\"], [0.4444444444444444, \"#bd3786\"], [0.5555555555555556, \"#d8576b\"], [0.6666666666666666, \"#ed7953\"], [0.7777777777777778, \"#fb9f3a\"], [0.8888888888888888, \"#fdca26\"], [1.0, \"#f0f921\"]], \"type\": \"contour\"}], \"contourcarpet\": [{\"colorbar\": {\"outlinewidth\": 0, \"ticks\": \"\"}, \"type\": \"contourcarpet\"}], \"heatmap\": [{\"colorbar\": {\"outlinewidth\": 0, \"ticks\": \"\"}, \"colorscale\": [[0.0, \"#0d0887\"], [0.1111111111111111, \"#46039f\"], [0.2222222222222222, \"#7201a8\"], [0.3333333333333333, \"#9c179e\"], [0.4444444444444444, \"#bd3786\"], [0.5555555555555556, \"#d8576b\"], [0.6666666666666666, \"#ed7953\"], [0.7777777777777778, \"#fb9f3a\"], [0.8888888888888888, \"#fdca26\"], [1.0, \"#f0f921\"]], \"type\": \"heatmap\"}], \"heatmapgl\": [{\"colorbar\": {\"outlinewidth\": 0, \"ticks\": \"\"}, \"colorscale\": [[0.0, \"#0d0887\"], [0.1111111111111111, \"#46039f\"], [0.2222222222222222, \"#7201a8\"], [0.3333333333333333, \"#9c179e\"], [0.4444444444444444, \"#bd3786\"], [0.5555555555555556, \"#d8576b\"], [0.6666666666666666, \"#ed7953\"], [0.7777777777777778, \"#fb9f3a\"], [0.8888888888888888, \"#fdca26\"], [1.0, \"#f0f921\"]], \"type\": \"heatmapgl\"}], \"histogram\": [{\"marker\": {\"colorbar\": {\"outlinewidth\": 0, \"ticks\": \"\"}}, \"type\": \"histogram\"}], \"histogram2d\": [{\"colorbar\": {\"outlinewidth\": 0, \"ticks\": \"\"}, \"colorscale\": [[0.0, \"#0d0887\"], [0.1111111111111111, \"#46039f\"], [0.2222222222222222, \"#7201a8\"], [0.3333333333333333, \"#9c179e\"], [0.4444444444444444, \"#bd3786\"], [0.5555555555555556, \"#d8576b\"], [0.6666666666666666, \"#ed7953\"], [0.7777777777777778, \"#fb9f3a\"], [0.8888888888888888, \"#fdca26\"], [1.0, \"#f0f921\"]], \"type\": \"histogram2d\"}], \"histogram2dcontour\": [{\"colorbar\": {\"outlinewidth\": 0, \"ticks\": \"\"}, \"colorscale\": [[0.0, \"#0d0887\"], [0.1111111111111111, \"#46039f\"], [0.2222222222222222, \"#7201a8\"], [0.3333333333333333, \"#9c179e\"], [0.4444444444444444, \"#bd3786\"], [0.5555555555555556, \"#d8576b\"], [0.6666666666666666, \"#ed7953\"], [0.7777777777777778, \"#fb9f3a\"], [0.8888888888888888, \"#fdca26\"], [1.0, \"#f0f921\"]], \"type\": \"histogram2dcontour\"}], \"mesh3d\": [{\"colorbar\": {\"outlinewidth\": 0, \"ticks\": \"\"}, \"type\": \"mesh3d\"}], \"parcoords\": [{\"line\": {\"colorbar\": {\"outlinewidth\": 0, \"ticks\": \"\"}}, \"type\": \"parcoords\"}], \"pie\": [{\"automargin\": true, \"type\": \"pie\"}], \"scatter\": [{\"marker\": {\"colorbar\": {\"outlinewidth\": 0, \"ticks\": \"\"}}, \"type\": \"scatter\"}], \"scatter3d\": [{\"line\": {\"colorbar\": {\"outlinewidth\": 0, \"ticks\": \"\"}}, \"marker\": {\"colorbar\": {\"outlinewidth\": 0, \"ticks\": \"\"}}, \"type\": \"scatter3d\"}], \"scattercarpet\": [{\"marker\": {\"colorbar\": {\"outlinewidth\": 0, \"ticks\": \"\"}}, \"type\": \"scattercarpet\"}], \"scattergeo\": [{\"marker\": {\"colorbar\": {\"outlinewidth\": 0, \"ticks\": \"\"}}, \"type\": \"scattergeo\"}], \"scattergl\": [{\"marker\": {\"colorbar\": {\"outlinewidth\": 0, \"ticks\": \"\"}}, \"type\": \"scattergl\"}], \"scattermapbox\": [{\"marker\": {\"colorbar\": {\"outlinewidth\": 0, \"ticks\": \"\"}}, \"type\": \"scattermapbox\"}], \"scatterpolar\": [{\"marker\": {\"colorbar\": {\"outlinewidth\": 0, \"ticks\": \"\"}}, \"type\": \"scatterpolar\"}], \"scatterpolargl\": [{\"marker\": {\"colorbar\": {\"outlinewidth\": 0, \"ticks\": \"\"}}, \"type\": \"scatterpolargl\"}], \"scatterternary\": [{\"marker\": {\"colorbar\": {\"outlinewidth\": 0, \"ticks\": \"\"}}, \"type\": \"scatterternary\"}], \"surface\": [{\"colorbar\": {\"outlinewidth\": 0, \"ticks\": \"\"}, \"colorscale\": [[0.0, \"#0d0887\"], [0.1111111111111111, \"#46039f\"], [0.2222222222222222, \"#7201a8\"], [0.3333333333333333, \"#9c179e\"], [0.4444444444444444, \"#bd3786\"], [0.5555555555555556, \"#d8576b\"], [0.6666666666666666, \"#ed7953\"], [0.7777777777777778, \"#fb9f3a\"], [0.8888888888888888, \"#fdca26\"], [1.0, \"#f0f921\"]], \"type\": \"surface\"}], \"table\": [{\"cells\": {\"fill\": {\"color\": \"#EBF0F8\"}, \"line\": {\"color\": \"white\"}}, \"header\": {\"fill\": {\"color\": \"#C8D4E3\"}, \"line\": {\"color\": \"white\"}}, \"type\": \"table\"}]}, \"layout\": {\"annotationdefaults\": {\"arrowcolor\": \"#2a3f5f\", \"arrowhead\": 0, \"arrowwidth\": 1}, \"autotypenumbers\": \"strict\", \"coloraxis\": {\"colorbar\": {\"outlinewidth\": 0, \"ticks\": \"\"}}, \"colorscale\": {\"diverging\": [[0, \"#8e0152\"], [0.1, \"#c51b7d\"], [0.2, \"#de77ae\"], [0.3, \"#f1b6da\"], [0.4, \"#fde0ef\"], [0.5, \"#f7f7f7\"], [0.6, \"#e6f5d0\"], [0.7, \"#b8e186\"], [0.8, \"#7fbc41\"], [0.9, \"#4d9221\"], [1, \"#276419\"]], \"sequential\": [[0.0, \"#0d0887\"], [0.1111111111111111, \"#46039f\"], [0.2222222222222222, \"#7201a8\"], [0.3333333333333333, \"#9c179e\"], [0.4444444444444444, \"#bd3786\"], [0.5555555555555556, \"#d8576b\"], [0.6666666666666666, \"#ed7953\"], [0.7777777777777778, \"#fb9f3a\"], [0.8888888888888888, \"#fdca26\"], [1.0, \"#f0f921\"]], \"sequentialminus\": [[0.0, \"#0d0887\"], [0.1111111111111111, \"#46039f\"], [0.2222222222222222, \"#7201a8\"], [0.3333333333333333, \"#9c179e\"], [0.4444444444444444, \"#bd3786\"], [0.5555555555555556, \"#d8576b\"], [0.6666666666666666, \"#ed7953\"], [0.7777777777777778, \"#fb9f3a\"], [0.8888888888888888, \"#fdca26\"], [1.0, \"#f0f921\"]]}, \"colorway\": [\"#636efa\", \"#EF553B\", \"#00cc96\", \"#ab63fa\", \"#FFA15A\", \"#19d3f3\", \"#FF6692\", \"#B6E880\", \"#FF97FF\", \"#FECB52\"], \"font\": {\"color\": \"#2a3f5f\"}, \"geo\": {\"bgcolor\": \"white\", \"lakecolor\": \"white\", \"landcolor\": \"#E5ECF6\", \"showlakes\": true, \"showland\": true, \"subunitcolor\": \"white\"}, \"hoverlabel\": {\"align\": \"left\"}, \"hovermode\": \"closest\", \"mapbox\": {\"style\": \"light\"}, \"paper_bgcolor\": \"white\", \"plot_bgcolor\": \"#E5ECF6\", \"polar\": {\"angularaxis\": {\"gridcolor\": \"white\", \"linecolor\": \"white\", \"ticks\": \"\"}, \"bgcolor\": \"#E5ECF6\", \"radialaxis\": {\"gridcolor\": \"white\", \"linecolor\": \"white\", \"ticks\": \"\"}}, \"scene\": {\"xaxis\": {\"backgroundcolor\": \"#E5ECF6\", \"gridcolor\": \"white\", \"gridwidth\": 2, \"linecolor\": \"white\", \"showbackground\": true, \"ticks\": \"\", \"zerolinecolor\": \"white\"}, \"yaxis\": {\"backgroundcolor\": \"#E5ECF6\", \"gridcolor\": \"white\", \"gridwidth\": 2, \"linecolor\": \"white\", \"showbackground\": true, \"ticks\": \"\", \"zerolinecolor\": \"white\"}, \"zaxis\": {\"backgroundcolor\": \"#E5ECF6\", \"gridcolor\": \"white\", \"gridwidth\": 2, \"linecolor\": \"white\", \"showbackground\": true, \"ticks\": \"\", \"zerolinecolor\": \"white\"}}, \"shapedefaults\": {\"line\": {\"color\": \"#2a3f5f\"}}, \"ternary\": {\"aaxis\": {\"gridcolor\": \"white\", \"linecolor\": \"white\", \"ticks\": \"\"}, \"baxis\": {\"gridcolor\": \"white\", \"linecolor\": \"white\", \"ticks\": \"\"}, \"bgcolor\": \"#E5ECF6\", \"caxis\": {\"gridcolor\": \"white\", \"linecolor\": \"white\", \"ticks\": \"\"}}, \"title\": {\"x\": 0.05}, \"xaxis\": {\"automargin\": true, \"gridcolor\": \"white\", \"linecolor\": \"white\", \"ticks\": \"\", \"title\": {\"standoff\": 15}, \"zerolinecolor\": \"white\", \"zerolinewidth\": 2}, \"yaxis\": {\"automargin\": true, \"gridcolor\": \"white\", \"linecolor\": \"white\", \"ticks\": \"\", \"title\": {\"standoff\": 15}, \"zerolinecolor\": \"white\", \"zerolinewidth\": 2}}}, \"title\": {\"text\": \"Soldiers Deaths(per 1000) and their Causes in the Crimean War\"}, \"xaxis\": {\"anchor\": \"y\", \"domain\": [0.0, 1.0], \"title\": {\"text\": \"Date\"}}, \"yaxis\": {\"anchor\": \"x\", \"domain\": [0.0, 1.0], \"title\": {\"text\": \"Deat Rate\"}}},                        {\"responsive\": true}                    ).then(function(){\n",
       "                            \n",
       "var gd = document.getElementById('637db3b8-a05c-4323-aaa0-758770bf5983');\n",
       "var x = new MutationObserver(function (mutations, observer) {{\n",
       "        var display = window.getComputedStyle(gd).display;\n",
       "        if (!display || display === 'none') {{\n",
       "            console.log([gd, 'removed!']);\n",
       "            Plotly.purge(gd);\n",
       "            observer.disconnect();\n",
       "        }}\n",
       "}});\n",
       "\n",
       "// Listen for the removal of the full notebook cells\n",
       "var notebookContainer = gd.closest('#notebook-container');\n",
       "if (notebookContainer) {{\n",
       "    x.observe(notebookContainer, {childList: true});\n",
       "}}\n",
       "\n",
       "// Listen for the clearing of the current output cell\n",
       "var outputEl = gd.closest('.output');\n",
       "if (outputEl) {{\n",
       "    x.observe(outputEl, {childList: true});\n",
       "}}\n",
       "\n",
       "                        })                };                });            </script>        </div>"
      ]
     },
     "metadata": {},
     "output_type": "display_data"
    }
   ],
   "source": [
    "wide_df = px.data.medals_wide()\n",
    "fig = px.bar(df, x=\"Date\", y=[\"Disease.rate\", \"Wounds.rate\", \"Other.rate\"], title=\"Soldiers Deaths(per 1000) and their Causes in the Crimean War\")\n",
    "fig.update_layout(legend_title_text='Causes', yaxis_title=\"Deat Rate\")\n",
    "fig.show()"
   ]
  },
  {
   "cell_type": "markdown",
   "metadata": {},
   "source": [
    "### Attempt 4 : To represent death rates due to all causes in two graphs for two years"
   ]
  },
  {
   "cell_type": "code",
   "execution_count": 157,
   "metadata": {},
   "outputs": [
    {
     "name": "stderr",
     "output_type": "stream",
     "text": [
      "127.0.0.1 - - [22/May/2021 23:50:27] \"\u001b[37mGET / HTTP/1.1\u001b[0m\" 200 -\n",
      "127.0.0.1 - - [22/May/2021 23:50:27] \"\u001b[37mGET /_dash-dependencies HTTP/1.1\u001b[0m\" 200 -\n",
      "127.0.0.1 - - [22/May/2021 23:50:27] \"\u001b[37mGET /_dash-layout HTTP/1.1\u001b[0m\" 200 -\n"
     ]
    }
   ],
   "source": [
    "# Defining data to be used in Plotly graphs in following attempts\n",
    "trace1 = go.Bar(x=df[df['Period']=='Before']['Date'], y=df[df['Period']=='Before']['Disease.rate'], name='Diseases (Before)')\n",
    "trace2 = go.Bar(x=df[df['Period']=='Before']['Date'], y=df[df['Period']=='Before']['Wounds.rate'], name='Wounds (Before)')\n",
    "trace3 = go.Bar(x=df[df['Period']=='Before']['Date'], y=df[df['Period']=='Before']['Other.rate'], name='Other (Before)')\n",
    "trace4 = go.Bar(x=df[df['Period']=='After']['Date'], y=df[df['Period']=='After']['Disease.rate'], name='Diseases (After)')\n",
    "trace5 = go.Bar(x=df[df['Period']=='After']['Date'], y=df[df['Period']=='After']['Wounds.rate'], name='Wounds (After)')\n",
    "trace6 = go.Bar(x=df[df['Period']=='After']['Date'], y=df[df['Period']=='After']['Other.rate'], name='Other (After)')"
   ]
  },
  {
   "cell_type": "code",
   "execution_count": 149,
   "metadata": {},
   "outputs": [
    {
     "name": "stderr",
     "output_type": "stream",
     "text": [
      "127.0.0.1 - - [22/May/2021 23:39:21] \"\u001b[37mGET /_shutdown_b1cf246b-ae45-42f2-aa51-5283e391aa69 HTTP/1.1\u001b[0m\" 200 -\n",
      " * Running on http://0.0.0.0:8000/ (Press CTRL+C to quit)\n",
      "127.0.0.1 - - [22/May/2021 23:39:22] \"\u001b[37mGET /_alive_b1cf246b-ae45-42f2-aa51-5283e391aa69 HTTP/1.1\u001b[0m\" 200 -\n"
     ]
    },
    {
     "data": {
      "text/html": [
       "\n",
       "        <iframe\n",
       "            width=\"100%\"\n",
       "            height=\"650\"\n",
       "            src=\"http://0.0.0.0:8000/\"\n",
       "            frameborder=\"0\"\n",
       "            allowfullscreen\n",
       "        ></iframe>\n",
       "        "
      ],
      "text/plain": [
       "<IPython.lib.display.IFrame at 0x7fdb30484dc0>"
      ]
     },
     "metadata": {},
     "output_type": "display_data"
    },
    {
     "name": "stderr",
     "output_type": "stream",
     "text": [
      "127.0.0.1 - - [22/May/2021 23:39:22] \"\u001b[37mGET / HTTP/1.1\u001b[0m\" 200 -\n",
      "127.0.0.1 - - [22/May/2021 23:39:22] \"\u001b[37mGET /_dash-dependencies HTTP/1.1\u001b[0m\" 200 -\n",
      "127.0.0.1 - - [22/May/2021 23:39:22] \"\u001b[37mGET /_dash-layout HTTP/1.1\u001b[0m\" 200 -\n"
     ]
    }
   ],
   "source": [
    "# Using Dash framework to build the chart\n",
    "\n",
    "app = JupyterDash(__name__)\n",
    "\n",
    "app.layout = html.Div(\n",
    "    children=[\n",
    "        html.H2(\n",
    "            children=\"Soldiers Deaths Before Improvements\",\n",
    "            style={\"color\": \"#00361c\", \"text-align\": \"center\"},\n",
    "        ),\n",
    "        dcc.Graph(\n",
    "            id=\"Before\",\n",
    "            style={\"width\": \"95%\", \"height\": \"45vh\"},\n",
    "            # style={\"width\":500, \"margin\": 0,'display': 'inline-block'},\n",
    "            figure={\n",
    "                \"data\": [trace1, trace2, trace3],\n",
    "                \"layout\": go.Layout(barmode=\"stack\"),\n",
    "            },\n",
    "        ),\n",
    "        html.Div(\n",
    "            children=[\n",
    "                html.H2(\n",
    "                    children=\"Soldiers Deaths After Improvements\",\n",
    "                    style={\"color\": \"#00361c\", \"text-align\": \"center\"},\n",
    "                ),\n",
    "                dcc.Graph(\n",
    "                    id=\"After\",\n",
    "                    style={\"width\": \"95%\", \"height\": \"45vh\"},\n",
    "                    # style={\"width\":500, \"margin\": 0,'display': 'inline-block'},\n",
    "                    figure={\n",
    "                        \"data\": [trace4, trace5, trace6],\n",
    "                        \"layout\": go.Layout(barmode=\"stack\"),\n",
    "                    },\n",
    "                ),\n",
    "            ],\n",
    "            style={\"width\": \"100%\", \"display\": \"inline-block\"},\n",
    "        ),\n",
    "    ],\n",
    "    style={\"width\": \"100%\", \"display\": \"inline-block\"},\n",
    ")\n",
    "\n",
    "app.run_server(mode=\"inline\", host=\"0.0.0.0\", port=8000, debug=False)\n",
    "\n",
    "# Try one of the following host/ports if above combination gives error\n",
    "# app.run_server(mode=\"inline\", host=\"0.0.0.0\", port=8080, debug=False)\n",
    "# app.run_server(mode=\"inline\", host=\"0.0.0.0\", port=8050, debug=False)"
   ]
  },
  {
   "cell_type": "markdown",
   "metadata": {},
   "source": [
    "### Attempt 5 : To combine the graphs of previous attempt"
   ]
  },
  {
   "cell_type": "code",
   "execution_count": 154,
   "metadata": {
    "scrolled": true
   },
   "outputs": [
    {
     "name": "stderr",
     "output_type": "stream",
     "text": [
      "127.0.0.1 - - [22/May/2021 23:44:23] \"\u001b[37mGET /_shutdown_b1cf246b-ae45-42f2-aa51-5283e391aa69 HTTP/1.1\u001b[0m\" 200 -\n",
      " * Running on http://0.0.0.0:8000/ (Press CTRL+C to quit)\n",
      "127.0.0.1 - - [22/May/2021 23:44:23] \"\u001b[37mGET /_alive_b1cf246b-ae45-42f2-aa51-5283e391aa69 HTTP/1.1\u001b[0m\" 200 -\n"
     ]
    },
    {
     "data": {
      "text/html": [
       "\n",
       "        <iframe\n",
       "            width=\"100%\"\n",
       "            height=\"650\"\n",
       "            src=\"http://0.0.0.0:8000/\"\n",
       "            frameborder=\"0\"\n",
       "            allowfullscreen\n",
       "        ></iframe>\n",
       "        "
      ],
      "text/plain": [
       "<IPython.lib.display.IFrame at 0x7fdb534c6700>"
      ]
     },
     "metadata": {},
     "output_type": "display_data"
    },
    {
     "name": "stderr",
     "output_type": "stream",
     "text": [
      "127.0.0.1 - - [22/May/2021 23:44:23] \"\u001b[37mGET / HTTP/1.1\u001b[0m\" 200 -\n",
      "127.0.0.1 - - [22/May/2021 23:44:23] \"\u001b[37mGET /_dash-layout HTTP/1.1\u001b[0m\" 200 -\n",
      "127.0.0.1 - - [22/May/2021 23:44:23] \"\u001b[37mGET /_dash-dependencies HTTP/1.1\u001b[0m\" 200 -\n",
      "127.0.0.1 - - [22/May/2021 23:44:38] \"\u001b[37mGET / HTTP/1.1\u001b[0m\" 200 -\n",
      "127.0.0.1 - - [22/May/2021 23:44:38] \"\u001b[37mGET /_dash-layout HTTP/1.1\u001b[0m\" 200 -\n",
      "127.0.0.1 - - [22/May/2021 23:44:38] \"\u001b[37mGET /_dash-dependencies HTTP/1.1\u001b[0m\" 200 -\n",
      "127.0.0.1 - - [22/May/2021 23:45:34] \"\u001b[37mGET / HTTP/1.1\u001b[0m\" 200 -\n",
      "127.0.0.1 - - [22/May/2021 23:45:35] \"\u001b[37mGET /_dash-layout HTTP/1.1\u001b[0m\" 200 -\n",
      "127.0.0.1 - - [22/May/2021 23:45:35] \"\u001b[37mGET /_dash-dependencies HTTP/1.1\u001b[0m\" 200 -\n"
     ]
    }
   ],
   "source": [
    "# Using Dash framework to build the chart\n",
    "\n",
    "app = JupyterDash(__name__)\n",
    "\n",
    "app.layout = html.Div(\n",
    "    children=[\n",
    "        html.H2(\n",
    "            children=\"Soldiers Deaths(per 1000) and Causes in the Crimean War\",\n",
    "            style={\"color\": \"#4863A0\", \"text-align\": \"center\"},\n",
    "        ),\n",
    "        html.H4(\n",
    "            children=\"How basic sanitization saved lives of soldiers\",\n",
    "            style={\"color\": \"#737CA1\", \"text-align\": \"center\"},\n",
    "        ),\n",
    "        html.P(\n",
    "            \"Improving sanitation conditions in army hospitals in the middle of Crimean War (April 1855) reduced the deaths of soldiers from infectious diseases, with death rates dropping from 42% to 2%.\"\n",
    "        ),\n",
    "        dcc.Graph(\n",
    "            id=\"Before\",\n",
    "            style={\"width\": \"95%\", \"height\": \"90vh\"},\n",
    "            # style={\"width\":500, \"margin\": 0,'display': 'inline-block'},\n",
    "            figure={\n",
    "                \"data\": [trace1, trace2, trace3, trace4, trace5, trace6],\n",
    "                \"layout\": go.Layout(\n",
    "                    barmode=\"stack\",\n",
    "                    annotations=[\n",
    "                        dict(\n",
    "                            x=1.1,\n",
    "                            y=1.05,\n",
    "                            align=\"right\",\n",
    "                            valign=\"top\",\n",
    "                            text=\"Causes of Deaths\",\n",
    "                            showarrow=False,\n",
    "                            xref=\"paper\",\n",
    "                            yref=\"paper\",\n",
    "                            xanchor=\"center\",\n",
    "                            yanchor=\"top\",\n",
    "                        )\n",
    "                    ],\n",
    "                ),\n",
    "            },\n",
    "        ),\n",
    "    ],\n",
    "    style={\"width\": \"100%\", \"display\": \"inline-block\"},\n",
    ")\n",
    "\n",
    "app.run_server(mode=\"inline\", host=\"0.0.0.0\", port=8000, debug=False)\n",
    "\n",
    "# Try one of the following host/ports if above combination gives error\n",
    "\n",
    "# app.run_server(mode=\"inline\", host=\"0.0.0.0\", port=8080, debug=False)\n",
    "# app.run_server(mode=\"inline\", host=\"0.0.0.0\", port=8050, debug=False)"
   ]
  },
  {
   "cell_type": "markdown",
   "metadata": {},
   "source": [
    "### Attempt 6 : Change text font colors, size and position"
   ]
  },
  {
   "cell_type": "code",
   "execution_count": 155,
   "metadata": {
    "scrolled": false
   },
   "outputs": [
    {
     "name": "stderr",
     "output_type": "stream",
     "text": [
      "127.0.0.1 - - [22/May/2021 23:45:41] \"\u001b[37mGET /_shutdown_b1cf246b-ae45-42f2-aa51-5283e391aa69 HTTP/1.1\u001b[0m\" 200 -\n",
      " * Running on http://0.0.0.0:8000/ (Press CTRL+C to quit)\n",
      "127.0.0.1 - - [22/May/2021 23:45:42] \"\u001b[37mGET /_alive_b1cf246b-ae45-42f2-aa51-5283e391aa69 HTTP/1.1\u001b[0m\" 200 -\n"
     ]
    },
    {
     "data": {
      "text/html": [
       "\n",
       "        <iframe\n",
       "            width=\"100%\"\n",
       "            height=\"650\"\n",
       "            src=\"http://0.0.0.0:8000/\"\n",
       "            frameborder=\"0\"\n",
       "            allowfullscreen\n",
       "        ></iframe>\n",
       "        "
      ],
      "text/plain": [
       "<IPython.lib.display.IFrame at 0x7fdb4074bcd0>"
      ]
     },
     "metadata": {},
     "output_type": "display_data"
    },
    {
     "name": "stderr",
     "output_type": "stream",
     "text": [
      "127.0.0.1 - - [22/May/2021 23:45:42] \"\u001b[37mGET / HTTP/1.1\u001b[0m\" 200 -\n",
      "127.0.0.1 - - [22/May/2021 23:45:43] \"\u001b[37mGET /_dash-layout HTTP/1.1\u001b[0m\" 200 -\n",
      "127.0.0.1 - - [22/May/2021 23:45:43] \"\u001b[37mGET /_dash-dependencies HTTP/1.1\u001b[0m\" 200 -\n",
      "127.0.0.1 - - [22/May/2021 23:45:44] \"\u001b[37mGET / HTTP/1.1\u001b[0m\" 200 -\n",
      "127.0.0.1 - - [22/May/2021 23:45:44] \"\u001b[37mGET /_dash-layout HTTP/1.1\u001b[0m\" 200 -\n",
      "127.0.0.1 - - [22/May/2021 23:45:44] \"\u001b[37mGET /_dash-dependencies HTTP/1.1\u001b[0m\" 200 -\n"
     ]
    }
   ],
   "source": [
    "# Using Dash framework to build the chart\n",
    "\n",
    "app = JupyterDash(__name__)\n",
    "\n",
    "app.layout = html.Div(\n",
    "    children=[\n",
    "        html.H2(\n",
    "            children=\"Soldiers Deaths(per 1000) and Causes in the Crimean War\",\n",
    "            style={\"color\": \"#E55451\", \"text-align\": \"left\"},\n",
    "        ),\n",
    "        html.H3(\n",
    "            children=\"Basic sanitization improvements saved thousands of lives\",\n",
    "            style={\"color\": \"#837E7C\", \"text-align\": \"left\"},\n",
    "        ),\n",
    "        html.P(\n",
    "            \"Improving sanitation conditions in army hospitals in the middle of Crimean War (April 1855) reduced the deaths of soldiers from infectious diseases, with death rates dropping from 42% to 2%.\"\n",
    "        ),\n",
    "        dcc.Graph(\n",
    "            id=\"Before\",\n",
    "            style={\"width\": \"95%\", \"height\": \"90vh\"},\n",
    "            # style={\"width\":500, \"margin\": 0,'display': 'inline-block'},\n",
    "            figure={\n",
    "                \"data\": [trace1, trace2, trace3, trace4, trace5, trace6],\n",
    "                \"layout\": go.Layout(\n",
    "                    barmode=\"stack\",\n",
    "                    annotations=[\n",
    "                        dict(\n",
    "                            x=1.1,\n",
    "                            y=1.05,\n",
    "                            align=\"right\",\n",
    "                            valign=\"top\",\n",
    "                            text=\"Causes of Deaths\",\n",
    "                            showarrow=False,\n",
    "                            xref=\"paper\",\n",
    "                            yref=\"paper\",\n",
    "                            xanchor=\"center\",\n",
    "                            yanchor=\"top\",\n",
    "                        )\n",
    "                    ],\n",
    "                ),\n",
    "            },\n",
    "        ),\n",
    "    ],\n",
    "    style={\"width\": \"100%\", \"display\": \"inline-block\"},\n",
    ")\n",
    "\n",
    "app.run_server(mode=\"inline\", host=\"0.0.0.0\", port=8000, debug=False)\n",
    "\n",
    "# Try one of the following host/ports if above combination gives error\n",
    "\n",
    "# app.run_server(mode=\"inline\", host=\"0.0.0.0\", port=8080, debug=False)\n",
    "# app.run_server(mode=\"inline\", host=\"0.0.0.0\", port=8050, debug=False)\n"
   ]
  },
  {
   "cell_type": "markdown",
   "metadata": {},
   "source": [
    "### Attempt 7 : Add a line seperator in the graph to divide the two periods of sanitation conditions"
   ]
  },
  {
   "cell_type": "code",
   "execution_count": 152,
   "metadata": {},
   "outputs": [
    {
     "name": "stderr",
     "output_type": "stream",
     "text": [
      "127.0.0.1 - - [22/May/2021 23:43:08] \"\u001b[37mGET /_shutdown_b1cf246b-ae45-42f2-aa51-5283e391aa69 HTTP/1.1\u001b[0m\" 200 -\n",
      " * Running on http://0.0.0.0:8000/ (Press CTRL+C to quit)\n",
      "127.0.0.1 - - [22/May/2021 23:43:09] \"\u001b[37mGET /_alive_b1cf246b-ae45-42f2-aa51-5283e391aa69 HTTP/1.1\u001b[0m\" 200 -\n"
     ]
    },
    {
     "data": {
      "text/html": [
       "\n",
       "        <iframe\n",
       "            width=\"100%\"\n",
       "            height=\"650\"\n",
       "            src=\"http://0.0.0.0:8000/\"\n",
       "            frameborder=\"0\"\n",
       "            allowfullscreen\n",
       "        ></iframe>\n",
       "        "
      ],
      "text/plain": [
       "<IPython.lib.display.IFrame at 0x7fdb4073f040>"
      ]
     },
     "metadata": {},
     "output_type": "display_data"
    },
    {
     "name": "stderr",
     "output_type": "stream",
     "text": [
      "127.0.0.1 - - [22/May/2021 23:43:09] \"\u001b[37mGET / HTTP/1.1\u001b[0m\" 200 -\n",
      "127.0.0.1 - - [22/May/2021 23:43:09] \"\u001b[37mGET /_dash-layout HTTP/1.1\u001b[0m\" 200 -\n",
      "127.0.0.1 - - [22/May/2021 23:43:09] \"\u001b[37mGET /_dash-dependencies HTTP/1.1\u001b[0m\" 200 -\n",
      "127.0.0.1 - - [22/May/2021 23:43:28] \"\u001b[37mGET / HTTP/1.1\u001b[0m\" 200 -\n",
      "127.0.0.1 - - [22/May/2021 23:43:28] \"\u001b[37mGET /_dash-dependencies HTTP/1.1\u001b[0m\" 200 -\n",
      "127.0.0.1 - - [22/May/2021 23:43:28] \"\u001b[37mGET /_dash-layout HTTP/1.1\u001b[0m\" 200 -\n"
     ]
    }
   ],
   "source": [
    "app = JupyterDash(__name__)\n",
    "\n",
    "app.layout = html.Div(\n",
    "    children=[\n",
    "        html.H2(\n",
    "            children=\"Soldiers Deaths(per 1000) and Causes in the Crimean War\",\n",
    "            style={\"color\": \"#E55451\", \"text-align\": \"left\"},\n",
    "        ),\n",
    "        html.H3(\n",
    "            children=\"Basic sanitization improvements saved thousands of lives\",\n",
    "            style={\"color\": \"#837E7C\", \"text-align\": \"left\"},\n",
    "        ),\n",
    "        html.P(\n",
    "            \"Improving sanitation conditions in army hospitals in the middle of Crimean War (April 1855) reduced the deaths of soldiers from infectious diseases, with death rates dropping from 42% to 2%.\"\n",
    "        ),\n",
    "        dcc.Graph(\n",
    "            id=\"Before\",\n",
    "            style={\"width\": \"95%\", \"height\": \"90vh\"},\n",
    "            # style={\"width\":500, \"margin\": 0,'display': 'inline-block'},\n",
    "            figure={\n",
    "                \"data\": [trace1, trace2, trace3, trace4, trace5, trace6],\n",
    "                \"layout\": go.Layout(\n",
    "                    barmode=\"stack\",\n",
    "                    annotations=[\n",
    "                        dict(\n",
    "                            x=1.1,\n",
    "                            y=1.05,\n",
    "                            align=\"right\",\n",
    "                            valign=\"top\",\n",
    "                            text=\"Causes of Deaths\",\n",
    "                            showarrow=False,\n",
    "                            xref=\"paper\",\n",
    "                            yref=\"paper\",\n",
    "                            xanchor=\"center\",\n",
    "                            yanchor=\"top\",\n",
    "                            font_size=17,\n",
    "                            font_color=\"Crimson\",\n",
    "                        ),\n",
    "                        dict(\n",
    "                            x=0.85,\n",
    "                            y=0.7,\n",
    "                            text=\"After Improvements in Sanitation\",\n",
    "                            font_size=15,\n",
    "                            font_color=\"Crimson\",\n",
    "                            showarrow=False,\n",
    "                            arrowhead=1,\n",
    "                            xref=\"paper\",\n",
    "                            yref=\"paper\",\n",
    "                        ),\n",
    "                        dict(\n",
    "                            x=0.05,\n",
    "                            y=0.7,\n",
    "                            text=\"Before Improvements in Sanitation\",\n",
    "                            font_size=15,\n",
    "                            font_color=\"Crimson\",\n",
    "                            showarrow=False,\n",
    "                            arrowhead=1,\n",
    "                            xref=\"paper\",\n",
    "                            yref=\"paper\",\n",
    "                        )\n",
    "                    ],\n",
    "                    shapes=[\n",
    "                        dict(\n",
    "                            type=\"line\",\n",
    "                            x0=0.5,\n",
    "                            y0=0.9,\n",
    "                            x1=0.5,\n",
    "                            y1=0,\n",
    "                            xref=\"paper\",\n",
    "                            yref=\"paper\",\n",
    "                            line=dict(\n",
    "                                color=\"Grey\",\n",
    "                                width=3,\n",
    "                                dash=\"dashdot\",\n",
    "                            ),\n",
    "                        )\n",
    "                    ],\n",
    "                ),\n",
    "            },\n",
    "        ),\n",
    "    ],\n",
    "    style={\"width\": \"100%\", \"display\": \"inline-block\"},\n",
    ")\n",
    "\n",
    "app.run_server(mode=\"inline\", host=\"0.0.0.0\", port=8000, debug=False)\n",
    "\n",
    "# Try one of the following host/ports if above combination gives error\n",
    "\n",
    "# app.run_server(mode=\"inline\", host=\"0.0.0.0\", port=8080, debug=False)\n",
    "# app.run_server(mode=\"inline\", host=\"0.0.0.0\", port=8050, debug=False)"
   ]
  },
  {
   "cell_type": "markdown",
   "metadata": {},
   "source": [
    "### Attempt 7 : Add text for before - after periods and total deaths in each period"
   ]
  },
  {
   "cell_type": "code",
   "execution_count": 156,
   "metadata": {},
   "outputs": [
    {
     "name": "stderr",
     "output_type": "stream",
     "text": [
      "127.0.0.1 - - [22/May/2021 23:47:43] \"\u001b[37mGET /_shutdown_b1cf246b-ae45-42f2-aa51-5283e391aa69 HTTP/1.1\u001b[0m\" 200 -\n",
      " * Running on http://0.0.0.0:8000/ (Press CTRL+C to quit)\n",
      "127.0.0.1 - - [22/May/2021 23:47:43] \"\u001b[37mGET /_alive_b1cf246b-ae45-42f2-aa51-5283e391aa69 HTTP/1.1\u001b[0m\" 200 -\n"
     ]
    },
    {
     "data": {
      "text/html": [
       "\n",
       "        <iframe\n",
       "            width=\"100%\"\n",
       "            height=\"650\"\n",
       "            src=\"http://0.0.0.0:8000/\"\n",
       "            frameborder=\"0\"\n",
       "            allowfullscreen\n",
       "        ></iframe>\n",
       "        "
      ],
      "text/plain": [
       "<IPython.lib.display.IFrame at 0x7fdb3032bb50>"
      ]
     },
     "metadata": {},
     "output_type": "display_data"
    },
    {
     "name": "stderr",
     "output_type": "stream",
     "text": [
      "127.0.0.1 - - [22/May/2021 23:47:43] \"\u001b[37mGET / HTTP/1.1\u001b[0m\" 200 -\n",
      "127.0.0.1 - - [22/May/2021 23:47:43] \"\u001b[37mGET /_dash-layout HTTP/1.1\u001b[0m\" 200 -\n",
      "127.0.0.1 - - [22/May/2021 23:47:43] \"\u001b[37mGET /_dash-dependencies HTTP/1.1\u001b[0m\" 200 -\n",
      "127.0.0.1 - - [22/May/2021 23:47:46] \"\u001b[37mGET / HTTP/1.1\u001b[0m\" 200 -\n",
      "127.0.0.1 - - [22/May/2021 23:47:46] \"\u001b[37mGET /_dash-dependencies HTTP/1.1\u001b[0m\" 200 -\n",
      "127.0.0.1 - - [22/May/2021 23:47:46] \"\u001b[37mGET /_dash-layout HTTP/1.1\u001b[0m\" 200 -\n"
     ]
    }
   ],
   "source": [
    "app = JupyterDash(__name__)\n",
    "\n",
    "app.layout = html.Div(\n",
    "    children=[\n",
    "        html.H2(\n",
    "            children=\"Soldiers Deaths(per 1000) and Causes in the Crimean War\",\n",
    "            style={\"color\": \"#E55451\", \"text-align\": \"left\"},\n",
    "        ),\n",
    "        html.H3(\n",
    "            children=\"Basic sanitization improvements saved thousands of lives\",\n",
    "            style={\"color\": \"#837E7C\", \"text-align\": \"left\"},\n",
    "        ),\n",
    "        html.P(\n",
    "            \"Improving sanitation conditions in army hospitals in the middle of Crimean War (April 1855) reduced the deaths of soldiers from infectious diseases, with death rates dropping from 42% to 2%.\"\n",
    "        ),\n",
    "        dcc.Graph(\n",
    "            id=\"Before\",\n",
    "            style={\"width\": \"95%\", \"height\": \"90vh\"},\n",
    "            # style={\"width\":500, \"margin\": 0,'display': 'inline-block'},\n",
    "            figure={\n",
    "                \"data\": [trace1, trace2, trace3, trace4, trace5, trace6],\n",
    "                \"layout\": go.Layout(\n",
    "                    barmode=\"stack\",\n",
    "                    annotations=[\n",
    "                        dict(\n",
    "                            x=1.1,\n",
    "                            y=1.05,\n",
    "                            align=\"right\",\n",
    "                            valign=\"top\",\n",
    "                            text=\"Causes of Deaths\",\n",
    "                            showarrow=False,\n",
    "                            xref=\"paper\",\n",
    "                            yref=\"paper\",\n",
    "                            xanchor=\"center\",\n",
    "                            yanchor=\"top\",\n",
    "                            font_size=16,\n",
    "                            font_color=\"Crimson\",\n",
    "                        ),\n",
    "                        dict(\n",
    "                            x=0.85,\n",
    "                            y=0.94,\n",
    "                            text=\"After Improvements in Sanitation\",\n",
    "                            font_size=15,\n",
    "                            font_color=\"MediumPurple\",\n",
    "                            showarrow=False,\n",
    "                            arrowhead=1,\n",
    "                            xref=\"paper\",\n",
    "                            yref=\"paper\",\n",
    "                        ),\n",
    "                        dict(\n",
    "                            x=0.03,\n",
    "                            y=0.94,\n",
    "                            text=\"Before Improvements in Sanitation\",\n",
    "                            font_size=15,\n",
    "                            font_color=\"MediumPurple\",\n",
    "                            showarrow=False,\n",
    "                            arrowhead=1,\n",
    "                            xref=\"paper\",\n",
    "                            yref=\"paper\",\n",
    "                        ),\n",
    "                        dict(\n",
    "                            x=0.067,\n",
    "                            y=0.89,\n",
    "                            text=\"Deaths due to Preventable Diseases\",\n",
    "                            font_size=14.5,\n",
    "                            font_color=\"Grey\",\n",
    "                            showarrow=False,\n",
    "                            arrowhead=1,\n",
    "                            xref=\"paper\",\n",
    "                            yref=\"paper\",\n",
    "                        ),\n",
    "                        dict(\n",
    "                            x=0.005,\n",
    "                            y=0.89,\n",
    "                            text=\"11157\",\n",
    "                            font_size=16,\n",
    "                            font_color=\"Crimson\",\n",
    "                            showarrow=False,\n",
    "                            arrowhead=1,\n",
    "                            xref=\"paper\",\n",
    "                            yref=\"paper\",\n",
    "                        ),\n",
    "                        dict(\n",
    "                            x=0.55,\n",
    "                            y=0.89,\n",
    "                            text=\"3319\",\n",
    "                            font_size=16,\n",
    "                            font_color=\"Crimson\",\n",
    "                            showarrow=False,\n",
    "                            arrowhead=1,\n",
    "                            xref=\"paper\",\n",
    "                            yref=\"paper\",\n",
    "                        ),\n",
    "                        dict(\n",
    "                            x=0.885,\n",
    "                            y=0.89,\n",
    "                            text=\"Deaths due to Preventable Diseases\",\n",
    "                            font_size=14.5,\n",
    "                            font_color=\"Grey\",\n",
    "                            showarrow=False,\n",
    "                            arrowhead=1,\n",
    "                            xref=\"paper\",\n",
    "                            yref=\"paper\",\n",
    "                        ),\n",
    "                    ],\n",
    "                    shapes=[\n",
    "                        dict(\n",
    "                            type=\"line\",\n",
    "                            x0=0.5,\n",
    "                            y0=0.95,\n",
    "                            x1=0.5,\n",
    "                            y1=0,\n",
    "                            xref=\"paper\",\n",
    "                            yref=\"paper\",\n",
    "                            line=dict(\n",
    "                                color=\"Grey\",\n",
    "                                width=3,\n",
    "                                dash=\"dashdot\",\n",
    "                            ),\n",
    "                        )\n",
    "                    ],\n",
    "                ),\n",
    "            },\n",
    "        ),\n",
    "    ],\n",
    "    style={\"width\": \"100%\", \"display\": \"inline-block\"},\n",
    ")\n",
    "\n",
    "\n",
    "app.run_server(mode=\"inline\", host=\"0.0.0.0\", port=8000, debug=False)\n",
    "\n",
    "# Try one of the following host/ports if above combination gives error\n",
    "\n",
    "# app.run_server(mode=\"inline\", host=\"0.0.0.0\", port=8080, debug=False)\n",
    "# app.run_server(mode=\"inline\", host=\"0.0.0.0\", port=8050, debug=False)"
   ]
  },
  {
   "cell_type": "markdown",
   "metadata": {},
   "source": [
    "### END"
   ]
  }
 ],
 "metadata": {
  "kernelspec": {
   "display_name": "Python 3",
   "language": "python",
   "name": "python3"
  },
  "language_info": {
   "codemirror_mode": {
    "name": "ipython",
    "version": 3
   },
   "file_extension": ".py",
   "mimetype": "text/x-python",
   "name": "python",
   "nbconvert_exporter": "python",
   "pygments_lexer": "ipython3",
   "version": "3.8.3"
  }
 },
 "nbformat": 4,
 "nbformat_minor": 4
}
