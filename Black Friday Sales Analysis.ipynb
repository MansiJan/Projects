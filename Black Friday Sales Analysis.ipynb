{
 "cells": [
  {
   "cell_type": "code",
   "execution_count": 233,
   "metadata": {},
   "outputs": [],
   "source": [
    "#Importing libraries that are going to be used further in our notebook\n",
    "import pandas as pd\n",
    "import numpy as np\n",
    "import matplotlib.pyplot as plt\n",
    "%matplotlib inline\n",
    "import seaborn as sns\n",
    "from sklearn.model_selection import train_test_split\n",
    "from sklearn.linear_model import LinearRegression\n",
    "from sklearn import metrics\n",
    "from scipy import stats\n",
    "from sklearn import datasets, linear_model\n",
    "from sklearn.metrics import mean_squared_error, r2_score, mean_absolute_error"
   ]
  },
  {
   "cell_type": "code",
   "execution_count": 480,
   "metadata": {},
   "outputs": [],
   "source": [
    "df = pd.read_csv('/Users/Mansi/Documents/INF1340H/Final Project/Black_Friday.csv',low_memory=False)"
   ]
  },
  {
   "cell_type": "markdown",
   "metadata": {},
   "source": [
    "**A. Data Cleaning (10%)**\n",
    "First, you need to clean the data. The existing dataset has missing values in some columns, and also some continuous or discrete ordinal columns are treated as string (object) because they include special characters like +.\n",
    "Write a function clean_data that takes in a DataFrame as an input, and returns a clean DataFrame. The clean DataFrame should follow these rules: clean_data(df) -> clean_df\n",
    "1. This function needs to turn ordinal columns into column with a proper data type. If a column like age or stay_in_current_city_years represents an ordinal feature (discrete numeric), it should be a number instead of a string object.\n",
    "2. This functions needs to turn any categorical column containing numbers into strings. For example, a column including IDs should be a string data type instead of numeric data type (because there is no order for IDs).\n",
    "3. This function needs to handle missing values. It should either fill missing values with proper value, or drop the entire column containing too many missing values."
   ]
  },
  {
   "cell_type": "code",
   "execution_count": 481,
   "metadata": {},
   "outputs": [
    {
     "data": {
      "text/html": [
       "<div>\n",
       "<style scoped>\n",
       "    .dataframe tbody tr th:only-of-type {\n",
       "        vertical-align: middle;\n",
       "    }\n",
       "\n",
       "    .dataframe tbody tr th {\n",
       "        vertical-align: top;\n",
       "    }\n",
       "\n",
       "    .dataframe thead th {\n",
       "        text-align: right;\n",
       "    }\n",
       "</style>\n",
       "<table border=\"1\" class=\"dataframe\">\n",
       "  <thead>\n",
       "    <tr style=\"text-align: right;\">\n",
       "      <th></th>\n",
       "      <th>User_ID</th>\n",
       "      <th>Product_ID</th>\n",
       "      <th>Gender</th>\n",
       "      <th>Age</th>\n",
       "      <th>Occupation</th>\n",
       "      <th>City_Category</th>\n",
       "      <th>Stay_In_Current_City_Years</th>\n",
       "      <th>Marital_Status</th>\n",
       "      <th>Product_Category_1</th>\n",
       "      <th>Product_Category_2</th>\n",
       "      <th>Product_Category_3</th>\n",
       "      <th>Purchase</th>\n",
       "    </tr>\n",
       "  </thead>\n",
       "  <tbody>\n",
       "    <tr>\n",
       "      <th>0</th>\n",
       "      <td>1000001</td>\n",
       "      <td>P00069042</td>\n",
       "      <td>F</td>\n",
       "      <td>0-17</td>\n",
       "      <td>10</td>\n",
       "      <td>A</td>\n",
       "      <td>2</td>\n",
       "      <td>0</td>\n",
       "      <td>3</td>\n",
       "      <td>NaN</td>\n",
       "      <td>NaN</td>\n",
       "      <td>8370</td>\n",
       "    </tr>\n",
       "    <tr>\n",
       "      <th>1</th>\n",
       "      <td>1000001</td>\n",
       "      <td>P00248942</td>\n",
       "      <td>F</td>\n",
       "      <td>0-17</td>\n",
       "      <td>10</td>\n",
       "      <td>A</td>\n",
       "      <td>2</td>\n",
       "      <td>0</td>\n",
       "      <td>1</td>\n",
       "      <td>6.0</td>\n",
       "      <td>14.0</td>\n",
       "      <td>15200</td>\n",
       "    </tr>\n",
       "    <tr>\n",
       "      <th>2</th>\n",
       "      <td>1000001</td>\n",
       "      <td>P00087842</td>\n",
       "      <td>F</td>\n",
       "      <td>0-17</td>\n",
       "      <td>10</td>\n",
       "      <td>A</td>\n",
       "      <td>2</td>\n",
       "      <td>0</td>\n",
       "      <td>12</td>\n",
       "      <td>NaN</td>\n",
       "      <td>NaN</td>\n",
       "      <td>1422</td>\n",
       "    </tr>\n",
       "    <tr>\n",
       "      <th>3</th>\n",
       "      <td>1000001</td>\n",
       "      <td>P00085442</td>\n",
       "      <td>F</td>\n",
       "      <td>0-17</td>\n",
       "      <td>10</td>\n",
       "      <td>A</td>\n",
       "      <td>2</td>\n",
       "      <td>0</td>\n",
       "      <td>12</td>\n",
       "      <td>14.0</td>\n",
       "      <td>NaN</td>\n",
       "      <td>1057</td>\n",
       "    </tr>\n",
       "    <tr>\n",
       "      <th>4</th>\n",
       "      <td>1000002</td>\n",
       "      <td>P00285442</td>\n",
       "      <td>M</td>\n",
       "      <td>55+</td>\n",
       "      <td>16</td>\n",
       "      <td>C</td>\n",
       "      <td>4+</td>\n",
       "      <td>0</td>\n",
       "      <td>8</td>\n",
       "      <td>NaN</td>\n",
       "      <td>NaN</td>\n",
       "      <td>7969</td>\n",
       "    </tr>\n",
       "    <tr>\n",
       "      <th>...</th>\n",
       "      <td>...</td>\n",
       "      <td>...</td>\n",
       "      <td>...</td>\n",
       "      <td>...</td>\n",
       "      <td>...</td>\n",
       "      <td>...</td>\n",
       "      <td>...</td>\n",
       "      <td>...</td>\n",
       "      <td>...</td>\n",
       "      <td>...</td>\n",
       "      <td>...</td>\n",
       "      <td>...</td>\n",
       "    </tr>\n",
       "    <tr>\n",
       "      <th>497991</th>\n",
       "      <td>1004653</td>\n",
       "      <td>P00293342</td>\n",
       "      <td>M</td>\n",
       "      <td>36-45</td>\n",
       "      <td>12</td>\n",
       "      <td>B</td>\n",
       "      <td>3</td>\n",
       "      <td>1</td>\n",
       "      <td>8</td>\n",
       "      <td>NaN</td>\n",
       "      <td>NaN</td>\n",
       "      <td>5824</td>\n",
       "    </tr>\n",
       "    <tr>\n",
       "      <th>497992</th>\n",
       "      <td>1004654</td>\n",
       "      <td>P00108542</td>\n",
       "      <td>M</td>\n",
       "      <td>36-45</td>\n",
       "      <td>20</td>\n",
       "      <td>C</td>\n",
       "      <td>3</td>\n",
       "      <td>0</td>\n",
       "      <td>5</td>\n",
       "      <td>8.0</td>\n",
       "      <td>14.0</td>\n",
       "      <td>8580</td>\n",
       "    </tr>\n",
       "    <tr>\n",
       "      <th>497993</th>\n",
       "      <td>1004654</td>\n",
       "      <td>P00051442</td>\n",
       "      <td>M</td>\n",
       "      <td>36-45</td>\n",
       "      <td>20</td>\n",
       "      <td>C</td>\n",
       "      <td>3</td>\n",
       "      <td>0</td>\n",
       "      <td>8</td>\n",
       "      <td>17.0</td>\n",
       "      <td>NaN</td>\n",
       "      <td>9828</td>\n",
       "    </tr>\n",
       "    <tr>\n",
       "      <th>497994</th>\n",
       "      <td>1004654</td>\n",
       "      <td>P00272042</td>\n",
       "      <td>M</td>\n",
       "      <td>36-45</td>\n",
       "      <td>20</td>\n",
       "      <td>C</td>\n",
       "      <td>3</td>\n",
       "      <td>0</td>\n",
       "      <td>8</td>\n",
       "      <td>14.0</td>\n",
       "      <td>NaN</td>\n",
       "      <td>9977</td>\n",
       "    </tr>\n",
       "    <tr>\n",
       "      <th>497995</th>\n",
       "      <td>1004654</td>\n",
       "      <td>P00116842</td>\n",
       "      <td>M</td>\n",
       "      <td>36-45</td>\n",
       "      <td>20</td>\n",
       "      <td>C</td>\n",
       "      <td>3</td>\n",
       "      <td>0</td>\n",
       "      <td>2</td>\n",
       "      <td>5.0</td>\n",
       "      <td>8.0</td>\n",
       "      <td>13229</td>\n",
       "    </tr>\n",
       "  </tbody>\n",
       "</table>\n",
       "<p>497996 rows × 12 columns</p>\n",
       "</div>"
      ],
      "text/plain": [
       "        User_ID Product_ID Gender    Age  Occupation City_Category  \\\n",
       "0       1000001  P00069042      F   0-17          10             A   \n",
       "1       1000001  P00248942      F   0-17          10             A   \n",
       "2       1000001  P00087842      F   0-17          10             A   \n",
       "3       1000001  P00085442      F   0-17          10             A   \n",
       "4       1000002  P00285442      M    55+          16             C   \n",
       "...         ...        ...    ...    ...         ...           ...   \n",
       "497991  1004653  P00293342      M  36-45          12             B   \n",
       "497992  1004654  P00108542      M  36-45          20             C   \n",
       "497993  1004654  P00051442      M  36-45          20             C   \n",
       "497994  1004654  P00272042      M  36-45          20             C   \n",
       "497995  1004654  P00116842      M  36-45          20             C   \n",
       "\n",
       "       Stay_In_Current_City_Years  Marital_Status  Product_Category_1  \\\n",
       "0                               2               0                   3   \n",
       "1                               2               0                   1   \n",
       "2                               2               0                  12   \n",
       "3                               2               0                  12   \n",
       "4                              4+               0                   8   \n",
       "...                           ...             ...                 ...   \n",
       "497991                          3               1                   8   \n",
       "497992                          3               0                   5   \n",
       "497993                          3               0                   8   \n",
       "497994                          3               0                   8   \n",
       "497995                          3               0                   2   \n",
       "\n",
       "        Product_Category_2  Product_Category_3  Purchase  \n",
       "0                      NaN                 NaN      8370  \n",
       "1                      6.0                14.0     15200  \n",
       "2                      NaN                 NaN      1422  \n",
       "3                     14.0                 NaN      1057  \n",
       "4                      NaN                 NaN      7969  \n",
       "...                    ...                 ...       ...  \n",
       "497991                 NaN                 NaN      5824  \n",
       "497992                 8.0                14.0      8580  \n",
       "497993                17.0                 NaN      9828  \n",
       "497994                14.0                 NaN      9977  \n",
       "497995                 5.0                 8.0     13229  \n",
       "\n",
       "[497996 rows x 12 columns]"
      ]
     },
     "execution_count": 481,
     "metadata": {},
     "output_type": "execute_result"
    }
   ],
   "source": [
    "df"
   ]
  },
  {
   "cell_type": "markdown",
   "metadata": {},
   "source": [
    "**Handing ordinal columns**"
   ]
  },
  {
   "cell_type": "code",
   "execution_count": 482,
   "metadata": {},
   "outputs": [
    {
     "data": {
      "text/plain": [
       "Age\n",
       "0-17      13653\n",
       "18-25     90611\n",
       "26-35    198633\n",
       "36-45     99620\n",
       "46-50     41180\n",
       "51-55     34922\n",
       "55+       19377\n",
       "dtype: int64"
      ]
     },
     "execution_count": 482,
     "metadata": {},
     "output_type": "execute_result"
    },
    {
     "data": {
      "image/png": "[encoded data removed]",
      "text/plain": [
       "<Figure size 432x288 with 1 Axes>"
      ]
     },
     "metadata": {
      "needs_background": "light"
     },
     "output_type": "display_data"
    }
   ],
   "source": [
    "# Plotting bar plot for Age.\n",
    "Agegrp = df.groupby('Age')\n",
    "Agegrp.size().plot(kind='bar')\n",
    "Agegrp.size()"
   ]
  },
  {
   "cell_type": "markdown",
   "metadata": {},
   "source": [
    "**AGE**\n",
    "\n",
    "\n",
    "</n>There is lot of variance in the count of transactions in different age categories. This can impact data modeling and model efficiency later. So the age groups will be re-categorized in the following way to reduce the variance to some extent and then converted to type int.\n",
    "1. 0-17 + 18-25        --> category 0\n",
    "2. 26-35               --> category 1\n",
    "3. 36-45               --> category 2\n",
    "4. 46-50 + 51-55 + 55+ --> category 3"
   ]
  },
  {
   "cell_type": "code",
   "execution_count": 483,
   "metadata": {},
   "outputs": [],
   "source": [
    "# function to assign new categories to Age and store the new categories in a new column 'New_AgeGrp'.\n",
    "def recategorizeAge(df):\n",
    "    for i in range(len(df)):\n",
    "            age = df.iloc[i][\"Age\"]\n",
    "            if((age == '0-17') | (age == '18-25')):\n",
    "                df.at[i, 'New_AgeGrp'] = 0\n",
    "            elif(age == '26-35'):\n",
    "                df.at[i, 'New_AgeGrp'] = 1\n",
    "            elif(age == '36-45'):\n",
    "                df.at[i, 'New_AgeGrp'] = 2\n",
    "            elif((age == '51-55') | (age == '46-50') | (age == '55+')):\n",
    "                df.at[i, 'New_AgeGrp'] = 3\n",
    "    return(df)"
   ]
  },
  {
   "cell_type": "code",
   "execution_count": 484,
   "metadata": {},
   "outputs": [
    {
     "data": {
      "text/plain": [
       "Stay_In_Current_City_Years\n",
       "0      67413\n",
       "1     175189\n",
       "2      92185\n",
       "3      86308\n",
       "4+     76901\n",
       "dtype: int64"
      ]
     },
     "execution_count": 484,
     "metadata": {},
     "output_type": "execute_result"
    },
    {
     "data": {
      "image/png": "[encoded data removed]",
      "text/plain": [
       "<Figure size 432x288 with 1 Axes>"
      ]
     },
     "metadata": {
      "needs_background": "light"
     },
     "output_type": "display_data"
    }
   ],
   "source": [
    "# Plotting bar plots for Stay_In_Current_City_Years\n",
    "yrsgrp = df.groupby('Stay_In_Current_City_Years')\n",
    "yrsgrp.size().plot(kind='bar')\n",
    "yrsgrp.size()"
   ]
  },
  {
   "cell_type": "markdown",
   "metadata": {},
   "source": [
    "**Stay_In_Current_City_Years**\n",
    "\n",
    "Stay_In_Current_City_Years will be categorized as follows:\n",
    "1. 0 --> 0\n",
    "2. 1 --> 1\n",
    "3. 2 --> 2\n",
    "4. 3 --> 3\n",
    "5. 4+ --> 4"
   ]
  },
  {
   "cell_type": "code",
   "execution_count": 485,
   "metadata": {},
   "outputs": [
    {
     "name": "stdout",
     "output_type": "stream",
     "text": [
      "<class 'pandas.core.frame.DataFrame'>\n",
      "RangeIndex: 497996 entries, 0 to 497995\n",
      "Data columns (total 12 columns):\n",
      " #   Column                      Non-Null Count   Dtype  \n",
      "---  ------                      --------------   -----  \n",
      " 0   User_ID                     497996 non-null  int64  \n",
      " 1   Product_ID                  497996 non-null  object \n",
      " 2   Gender                      497996 non-null  object \n",
      " 3   Age                         497996 non-null  object \n",
      " 4   Occupation                  497996 non-null  int64  \n",
      " 5   City_Category               497996 non-null  object \n",
      " 6   Stay_In_Current_City_Years  497996 non-null  object \n",
      " 7   Marital_Status              497996 non-null  int64  \n",
      " 8   Product_Category_1          497996 non-null  int64  \n",
      " 9   Product_Category_2          343246 non-null  float64\n",
      " 10  Product_Category_3          152172 non-null  float64\n",
      " 11  Purchase                    497996 non-null  int64  \n",
      "dtypes: float64(2), int64(5), object(5)\n",
      "memory usage: 45.6+ MB\n"
     ]
    }
   ],
   "source": [
    "df.info()"
   ]
  },
  {
   "cell_type": "markdown",
   "metadata": {},
   "source": [
    "**Product_Category_1/2/3**\n",
    "\n",
    "df.info() shows that there are two columns which have missing/null values - Product_Category_1, Product_Category_2.\n",
    "\n",
    "As Product_Category_1/2/3 represent the number of purchased products in that category, it is **assumed that missing/null values in these columns in any transaction means that no item was purchased in that category and hence will be replaced by 0 in clean_data() function.**"
   ]
  },
  {
   "cell_type": "code",
   "execution_count": 486,
   "metadata": {},
   "outputs": [],
   "source": [
    "def clean_data(data):\n",
    "    \n",
    "    data = recategorizeAge(data)    # Calling function to recategorize Age column\n",
    "    \n",
    "    data['User_ID'] = data['User_ID'].astype(str)  # Converting User_ID to string data type    \n",
    "    data['Occupation'] = data['Occupation'].astype(str)  # Converting Occupation column to string data type    \n",
    "    data['Marital_Status'] = data['Marital_Status'].astype(str)  # Converting Marital_Status column to string data type\n",
    "    data['New_AgeGrp'] = data['New_AgeGrp'].astype(int)  # Converting New_AgeGrp column to type int \n",
    "    \n",
    "    data['Product_Category_2'].fillna(0, inplace = True)  # Filling null/missing values with 0\n",
    "    data['Product_Category_3'].fillna(0, inplace = True)  # Filling null/missing values with 0\n",
    "    data['Product_Category_2'] = data['Product_Category_2'].astype(int)  # Changing data type to int\n",
    "    data['Product_Category_3'] = data['Product_Category_3'].astype(int)  # Changing data type to int\n",
    "    \n",
    "    # Categorizing Stay_In_Current_City_Years column and storing the new categories in a new column Stay_In_Current_City_Year\n",
    "    data.Stay_In_Current_City_Years = pd.Categorical(data.Stay_In_Current_City_Years)  \n",
    "    data['Stay_In_Current_City_Year'] = data.Stay_In_Current_City_Years.cat.codes\n",
    "    \n",
    "    data = data.drop(['Age'],axis=1)\n",
    "    data = data.drop(['Stay_In_Current_City_Years'],axis=1)\n",
    "    \n",
    "    return(data)"
   ]
  },
  {
   "cell_type": "code",
   "execution_count": 487,
   "metadata": {},
   "outputs": [],
   "source": [
    "clean_df = clean_data(df)"
   ]
  },
  {
   "cell_type": "code",
   "execution_count": 488,
   "metadata": {},
   "outputs": [
    {
     "name": "stdout",
     "output_type": "stream",
     "text": [
      "<class 'pandas.core.frame.DataFrame'>\n",
      "RangeIndex: 497996 entries, 0 to 497995\n",
      "Data columns (total 12 columns):\n",
      " #   Column                     Non-Null Count   Dtype \n",
      "---  ------                     --------------   ----- \n",
      " 0   User_ID                    497996 non-null  object\n",
      " 1   Product_ID                 497996 non-null  object\n",
      " 2   Gender                     497996 non-null  object\n",
      " 3   Occupation                 497996 non-null  object\n",
      " 4   City_Category              497996 non-null  object\n",
      " 5   Marital_Status             497996 non-null  object\n",
      " 6   Product_Category_1         497996 non-null  int64 \n",
      " 7   Product_Category_2         497996 non-null  int64 \n",
      " 8   Product_Category_3         497996 non-null  int64 \n",
      " 9   Purchase                   497996 non-null  int64 \n",
      " 10  New_AgeGrp                 497996 non-null  int64 \n",
      " 11  Stay_In_Current_City_Year  497996 non-null  int8  \n",
      "dtypes: int64(5), int8(1), object(6)\n",
      "memory usage: 42.3+ MB\n"
     ]
    }
   ],
   "source": [
    "clean_df.info()"
   ]
  },
  {
   "cell_type": "markdown",
   "metadata": {},
   "source": [
    "### B. Data Analysis (30% + 10%)**\n",
    "\n",
    "#### Using clean DataFrame from previous section answer questions below by visualizing proper plots:\n"
   ]
  },
  {
   "cell_type": "markdown",
   "metadata": {},
   "source": [
    "#### 1. Compare number of customers, and total amount of purchase for each gender? Is this a balance dataset with respect to gender? (5%)"
   ]
  },
  {
   "cell_type": "markdown",
   "metadata": {},
   "source": [
    "**Number of customers in each gender**"
   ]
  },
  {
   "cell_type": "code",
   "execution_count": 489,
   "metadata": {},
   "outputs": [
    {
     "data": {
      "image/png": "[encoded data removed]",
      "text/plain": [
       "<Figure size 1080x288 with 2 Axes>"
      ]
     },
     "metadata": {
      "needs_background": "light"
     },
     "output_type": "display_data"
    },
    {
     "name": "stdout",
     "output_type": "stream",
     "text": [
      "Number of unique customers for Males:  4225\n",
      "Number of unique customers for Females:  1666\n",
      "Total Amount of purchase for Males:  3568533248\n",
      "Total Amount of purchase for Females:  1078358205\n"
     ]
    }
   ],
   "source": [
    "fig, axes = plt.subplots(figsize=(15,4),nrows=1, ncols=2)\n",
    "clean_df.groupby('Gender')['User_ID'].nunique().plot(kind='bar', title= \"Count of Unique Customers per Gender\", ax=axes[0] )\n",
    "clean_df.groupby('Gender')['Purchase'].agg('sum').plot(kind='bar', title= \"Total Purchase per Gender\", ax=axes[1])\n",
    "plt.show()\n",
    "print(\"Number of unique customers for Males: \", clean_df[clean_df[\"Gender\"]== \"M\"][\"User_ID\"].nunique())\n",
    "print(\"Number of unique customers for Females: \", clean_df[clean_df[\"Gender\"]== \"F\"][\"User_ID\"].nunique())\n",
    "print(\"Total Amount of purchase for Males: \", clean_df[clean_df[\"Gender\"]== \"M\"][\"Purchase\"].sum())\n",
    "print(\"Total Amount of purchase for Females: \", clean_df[clean_df[\"Gender\"]== \"F\"][\"Purchase\"].sum())"
   ]
  },
  {
   "cell_type": "markdown",
   "metadata": {},
   "source": [
    "From the above figures it can be seen that number of Male customers are more than Female customers. Also total purchase amount for Males is almost 3 times more than that of Females. This dataset is **not a balanced dataset with respect to Gender**"
   ]
  },
  {
   "cell_type": "markdown",
   "metadata": {},
   "source": [
    "### 2. Compare total amount of purchase for different cities. (5%)"
   ]
  },
  {
   "cell_type": "code",
   "execution_count": 490,
   "metadata": {},
   "outputs": [
    {
     "data": {
      "image/png": "[encoded data removed]",
      "text/plain": [
       "<Figure size 432x288 with 1 Axes>"
      ]
     },
     "metadata": {
      "needs_background": "light"
     },
     "output_type": "display_data"
    },
    {
     "name": "stdout",
     "output_type": "stream",
     "text": [
      "Total Amount of purchase for City A:  1200686706\n",
      "Total Amount of purchase for City B:  1928963340\n",
      "Total Amount of purchase for City C:  1517241407\n"
     ]
    }
   ],
   "source": [
    "clean_df.groupby('City_Category')['Purchase'].agg('sum').plot(kind='bar', title= \"Total Amount of Purchase per City\")\n",
    "plt.show()\n",
    "print(\"Total Amount of purchase for City A: \", clean_df[clean_df[\"City_Category\"]== \"A\"][\"Purchase\"].sum())\n",
    "print(\"Total Amount of purchase for City B: \", clean_df[clean_df[\"City_Category\"]== \"B\"][\"Purchase\"].sum())\n",
    "print(\"Total Amount of purchase for City C: \", clean_df[clean_df[\"City_Category\"]== \"C\"][\"Purchase\"].sum())"
   ]
  },
  {
   "cell_type": "markdown",
   "metadata": {},
   "source": [
    "**Amongst the three cities, the total amount of purchase is maximum in City B and minimum in City A.**"
   ]
  },
  {
   "cell_type": "markdown",
   "metadata": {},
   "source": [
    "#### 3. Compare total amount of purchase for combinations of gender and age. Which gender and age is better target for marketing campaign? (5%)"
   ]
  },
  {
   "cell_type": "code",
   "execution_count": 491,
   "metadata": {},
   "outputs": [
    {
     "data": {
      "image/png": "[encoded data removed]",
      "text/plain": [
       "<Figure size 864x432 with 1 Axes>"
      ]
     },
     "metadata": {
      "needs_background": "light"
     },
     "output_type": "display_data"
    }
   ],
   "source": [
    "data = clean_df.groupby(['New_AgeGrp','Gender'])['Purchase'].agg('sum').unstack(level=-1)\n",
    "ax = data.plot.bar(stacked=True, figsize=(12, 6))\n",
    "ax.set_ylabel('Total Amount of Purchase')\n",
    "ax.set_xlabel('Age Categories')\n",
    "ax.set_title('Total Amount of Purchase for Combinations of Gender and Age Groups')\n",
    "for rect in ax.patches:\n",
    "    # Find where everything is located\n",
    "    height = rect.get_height()\n",
    "    width = rect.get_width()\n",
    "    x = rect.get_x()\n",
    "    y = rect.get_y()\n",
    "    \n",
    "    # The height of the bar is the data value and can be used as the label\n",
    "    label_text = f'{height}'  # f'{height:.2f}' to format decimal values\n",
    "    \n",
    "    # ax.text(x, y, text)\n",
    "    label_x = x + width / 2\n",
    "    label_y = y + height / 2\n",
    "\n",
    "    # plot only when height is greater than specified value\n",
    "    if height > 0:\n",
    "        ax.text(label_x, label_y, label_text, ha='center', va='center', fontsize=8)"
   ]
  },
  {
   "cell_type": "markdown",
   "metadata": {},
   "source": [
    "Compare total amount of purchase for combinations of gender and age. Which gender and age is better target for marketing campaign? (5%)\n",
    "\n",
    "The above graph shows that \n",
    "1. **Total amount of purchase for age category 1 (26-35) is much more than the other age categories.** \n",
    "2. **Males purchased more than three times than females in all age categories.**\n",
    "3. **It is thus concluded that Males aged between 26-35 are the highest spenders.**"
   ]
  },
  {
   "cell_type": "markdown",
   "metadata": {},
   "source": [
    "#### 4. Using box and whisker plot, compare distribution of purchase amounts among combinations of genders and age. (5%)"
   ]
  },
  {
   "cell_type": "code",
   "execution_count": 492,
   "metadata": {},
   "outputs": [
    {
     "data": {
      "text/plain": [
       "<matplotlib.axes._subplots.AxesSubplot at 0x13571c340>"
      ]
     },
     "execution_count": 492,
     "metadata": {},
     "output_type": "execute_result"
    },
    {
     "data": {
      "image/png": "[encoded data removed]",
      "text/plain": [
       "<Figure size 972x504 with 1 Axes>"
      ]
     },
     "metadata": {
      "needs_background": "light"
     },
     "output_type": "display_data"
    }
   ],
   "source": [
    "plt.figure(figsize=(13.5, 7))\n",
    "sns.boxplot(x=\"New_AgeGrp\", y=\"Purchase\", hue=\"Gender\", data=clean_df)"
   ]
  },
  {
   "cell_type": "markdown",
   "metadata": {},
   "source": [
    "**Observations** from the above figure:\n",
    "1. The lower whiskers, 1st quartiles and medians are almost same in all the figures. This means that 25% of males and females in all the age groups spent upto 5K only. Another 25% of males and females in all age groups spent between 5K and 6K. \n",
    "2. The 3rd quartiles of males are more than those of females in all age groups. This means that the range of purchase amounts for 25% of males and females lying in 3rd quartiles is more for males.\n",
    "3. Within the same gender the 3rd quartiles are almost same. \n",
    "4. The maximum purchase amount for males and females is almost same in all age categories. "
   ]
  },
  {
   "cell_type": "markdown",
   "metadata": {},
   "source": [
    "### 5. Using box and whisker plot, compare distribution of purchase amounts among different occupations. (5%)"
   ]
  },
  {
   "cell_type": "code",
   "execution_count": 493,
   "metadata": {},
   "outputs": [
    {
     "data": {
      "text/plain": [
       "<matplotlib.axes._subplots.AxesSubplot at 0x14983f790>"
      ]
     },
     "execution_count": 493,
     "metadata": {},
     "output_type": "execute_result"
    },
    {
     "data": {
      "image/png": "[encoded data removed]",
      "text/plain": [
       "<Figure size 1152x576 with 1 Axes>"
      ]
     },
     "metadata": {
      "needs_background": "light"
     },
     "output_type": "display_data"
    }
   ],
   "source": [
    "plt.figure(figsize=(16, 8))\n",
    "sns.boxplot(x=\"Occupation\", y=\"Purchase\", data=clean_df )"
   ]
  },
  {
   "cell_type": "markdown",
   "metadata": {},
   "source": [
    "**Observations**\n",
    "1. The median and maximum purchase values for customers in all occupations is almost same\n",
    "2. Customers with 12, 15 and 17 categories of occupation spend more\n",
    "3. Customers under occupation category 9 spend the least\n"
   ]
  },
  {
   "cell_type": "markdown",
   "metadata": {},
   "source": [
    "6. (Optional) Create a heatmap or scatter plot showing correlation matrix of all of two numerical features. Which features are positively correlated with purchase amount? (+10%)"
   ]
  },
  {
   "cell_type": "code",
   "execution_count": 494,
   "metadata": {},
   "outputs": [
    {
     "data": {
      "image/png": "[encoded data removed]",
      "text/plain": [
       "<Figure size 720x360 with 2 Axes>"
      ]
     },
     "metadata": {
      "needs_background": "light"
     },
     "output_type": "display_data"
    }
   ],
   "source": [
    "fig, ax = plt.subplots(figsize=(10,5))\n",
    "corr = clean_df.corr()\n",
    "ax = sns.heatmap(\n",
    "    corr,annot=True\n",
    ")\n",
    "ax.set_xticklabels(\n",
    "    ax.get_xticklabels(),\n",
    "    rotation=45,\n",
    "    horizontalalignment='right'\n",
    ");"
   ]
  },
  {
   "cell_type": "markdown",
   "metadata": {},
   "source": [
    "**Product_Category_2, Product_Category_3, Age group and Stay_In_Current_City_Years are positively correlated with Purchase amount**"
   ]
  },
  {
   "cell_type": "markdown",
   "metadata": {},
   "source": [
    "### C. Data Modeling (60% + 5%)"
   ]
  },
  {
   "cell_type": "markdown",
   "metadata": {},
   "source": [
    "#### 1. Feature Engineering: In this part, you need to preprocess and engineer features (columns) to be able to feed it to regression model and predict purchase amount better.\n",
    "\n",
    "    a. For categorical columns, use dummy variable to turn categorical column into columns of binary values (one-hot encoded vector) (15%)"
   ]
  },
  {
   "cell_type": "markdown",
   "metadata": {},
   "source": [
    "Following columns are categorical columns which will be processed to get their dummies:\n",
    "\n",
    "\n",
    "*Gender\n",
    "\n",
    "\n",
    "*Occupation\n",
    "\n",
    "\n",
    "*City_Category\n",
    "\n",
    "\n",
    "*Stay_In_Current_Year\n",
    "\n",
    "\n",
    "*Marital_Status\n",
    "\n",
    "\n",
    "*New_AgeGrp"
   ]
  },
  {
   "cell_type": "code",
   "execution_count": 495,
   "metadata": {},
   "outputs": [],
   "source": [
    "clean_df_encoded = pd.concat([clean_df,pd.get_dummies(clean_df['Gender'], prefix='Gender')],axis=1).drop(['Gender'],axis=1)\n",
    "clean_df_encoded = pd.concat([clean_df_encoded,pd.get_dummies(clean_df_encoded['Occupation'], prefix='Occupation')],axis=1).drop(['Occupation'],axis=1)\n",
    "clean_df_encoded = pd.concat([clean_df_encoded,pd.get_dummies(clean_df_encoded['City_Category'], prefix='City_Category')],axis=1).drop(['City_Category'],axis=1)\n",
    "clean_df_encoded = pd.concat([clean_df_encoded,pd.get_dummies(clean_df_encoded['Stay_In_Current_City_Year'], prefix='Stay_In_Current_City_Year')],axis=1).drop(['Stay_In_Current_City_Year'],axis=1)\n",
    "clean_df_encoded = pd.concat([clean_df_encoded,pd.get_dummies(clean_df_encoded['New_AgeGrp'], prefix='Age')],axis=1).drop(['New_AgeGrp'],axis=1)\n",
    "clean_df_encoded = pd.concat([clean_df_encoded,pd.get_dummies(clean_df_encoded['Marital_Status'], prefix='Marital_Status')],axis=1).drop(['Marital_Status'],axis=1)"
   ]
  },
  {
   "cell_type": "code",
   "execution_count": 496,
   "metadata": {},
   "outputs": [],
   "source": [
    "# dropping User_ID and Product_ID columns as they are just unqique IDs and not useful for prediction of Purchase\n",
    "clean_df_encoded = clean_df_encoded.drop(['User_ID'], axis=1)\n",
    "clean_df_encoded = clean_df_encoded.drop(['Product_ID'], axis=1)"
   ]
  },
  {
   "cell_type": "code",
   "execution_count": 497,
   "metadata": {},
   "outputs": [],
   "source": [
    "#Moving Purchase column to the end of the dataframe\n",
    "clean_df_encoded = clean_df_encoded.drop(columns=['Purchase']).assign(Purchase=clean_df_encoded['Purchase'])"
   ]
  },
  {
   "cell_type": "markdown",
   "metadata": {},
   "source": [
    "#### 2. Linear Regression Model: split the dataset into training and testing dataset (80% for training and 20% for testing). Next, create and fit a multivariant linear regression model to training dataset. Then, test the trained model over testing dataset. What are the MAE and MSE? Feel free to modify or tune anything you want in previous parts to reduce MAE and MSE. (30%)"
   ]
  },
  {
   "cell_type": "code",
   "execution_count": 635,
   "metadata": {},
   "outputs": [],
   "source": [
    "Input = clean_df_encoded.iloc[:,0:40] # Selecting all columns as Input to the Model except Purchase\n",
    "Target = clean_df_encoded.iloc[:,40] # Selecting Purchase as Target variable\n",
    "\n",
    "#Splitting data into train and test data. 20% data is kept for test data\n",
    "X_train, X_test, Y_train, Y_test = train_test_split(Input, Target, test_size=0.2, random_state=0) "
   ]
  },
  {
   "cell_type": "markdown",
   "metadata": {},
   "source": [
    "**II) (Optional) Normalize all numerical columns using mean normalization. (+5%)**"
   ]
  },
  {
   "cell_type": "code",
   "execution_count": 636,
   "metadata": {},
   "outputs": [],
   "source": [
    "X_train = (X_train - X_train.mean())/(X_train.max()-X_train.min()) #Normalizing Train data\n",
    "X_test = (X_test - X_test.mean())/(X_test.max()-X_test.min())   ##Normalizing Test data"
   ]
  },
  {
   "cell_type": "code",
   "execution_count": 637,
   "metadata": {},
   "outputs": [
    {
     "name": "stdout",
     "output_type": "stream",
     "text": [
      "The MSE and MAE are:  {'MSE': 22149276.953706007, 'MAE': 3617.5969831701923}\n"
     ]
    }
   ],
   "source": [
    "regr = LinearRegression()\n",
    "regr.fit(X_train, Y_train) # Fitting Linear Regression model on the train data\n",
    "y_pred = regr.predict(X_test) # Predicting Purchase values for the test data\n",
    "\n",
    "mse = mean_squared_error(Y_test, y_pred)\n",
    "mae = mean_absolute_error(Y_test, y_pred)\n",
    "\n",
    "output = {'MSE': mse, 'MAE' : mae}\n",
    "print(\"The MSE and MAE are: \", output)"
   ]
  },
  {
   "cell_type": "code",
   "execution_count": 501,
   "metadata": {},
   "outputs": [
    {
     "name": "stdout",
     "output_type": "stream",
     "text": [
      "Intercept parameter: 9371.40368425945\n",
      "                              Coefficient\n",
      "Product_Category_1          -5.377741e+03\n",
      "Product_Category_2          -6.964032e+02\n",
      "Product_Category_3           2.873701e+03\n",
      "Gender_F                    -1.681120e+18\n",
      "Gender_M                    -1.681120e+18\n",
      "Occupation_0                 6.910652e+15\n",
      "Occupation_1                 6.910652e+15\n",
      "Occupation_10                6.910652e+15\n",
      "Occupation_11                6.910652e+15\n",
      "Occupation_12                6.910652e+15\n",
      "Occupation_13                6.910652e+15\n",
      "Occupation_14                6.910652e+15\n",
      "Occupation_15                6.910652e+15\n",
      "Occupation_16                6.910652e+15\n",
      "Occupation_17                6.910652e+15\n",
      "Occupation_18                6.910652e+15\n",
      "Occupation_19                6.910652e+15\n",
      "Occupation_2                 6.910652e+15\n",
      "Occupation_20                6.910652e+15\n",
      "Occupation_3                 6.910652e+15\n",
      "Occupation_4                 6.910652e+15\n",
      "Occupation_5                 6.910652e+15\n",
      "Occupation_6                 6.910652e+15\n",
      "Occupation_7                 6.910652e+15\n",
      "Occupation_8                 6.910652e+15\n",
      "Occupation_9                 6.910652e+15\n",
      "City_Category_A              6.965076e+16\n",
      "City_Category_B              6.965076e+16\n",
      "City_Category_C              6.965076e+16\n",
      "Stay_In_Current_City_Year_0 -4.690753e+16\n",
      "Stay_In_Current_City_Year_1 -4.690753e+16\n",
      "Stay_In_Current_City_Year_2 -4.690753e+16\n",
      "Stay_In_Current_City_Year_3 -4.690753e+16\n",
      "Stay_In_Current_City_Year_4 -4.690753e+16\n",
      "Age_0                        1.207231e+17\n",
      "Age_1                        1.207231e+17\n",
      "Age_2                        1.207231e+17\n",
      "Age_3                        1.207231e+17\n",
      "Marital_Status_0            -1.954264e+18\n",
      "Marital_Status_1            -1.954264e+18\n"
     ]
    }
   ],
   "source": [
    "print('Intercept parameter:', regr.intercept_)\n",
    "coeff_df = pd.DataFrame(regr.coef_, Input.columns, columns=['Coefficient'])\n",
    "print(coeff_df)"
   ]
  },
  {
   "cell_type": "markdown",
   "metadata": {},
   "source": [
    "#### More data cleaning to see if model efficiency improves"
   ]
  },
  {
   "cell_type": "markdown",
   "metadata": {},
   "source": [
    "Checked for outliers in all columns and found some in Purchase column"
   ]
  },
  {
   "cell_type": "code",
   "execution_count": 572,
   "metadata": {},
   "outputs": [],
   "source": [
    "clean_df2 = clean_df_encoded.copy()"
   ]
  },
  {
   "cell_type": "code",
   "execution_count": 573,
   "metadata": {},
   "outputs": [
    {
     "name": "stdout",
     "output_type": "stream",
     "text": [
      "5865.0 12071.0 6206.0 -3444.0 21380.0\n"
     ]
    }
   ],
   "source": [
    "q75, q25 = np.percentile(clean_df2.Purchase, [75,25])\n",
    "iqr = q75 - q25\n",
    "# calculate the outlier cutoff\n",
    "cut_off = iqr * 1.5\n",
    "lower, upper = q25 - cut_off, q75 + cut_off\n",
    "print(q25, q75,iqr, lower,upper )"
   ]
  },
  {
   "cell_type": "code",
   "execution_count": 574,
   "metadata": {},
   "outputs": [],
   "source": [
    "# Function to update status of each record as faulty, working fine or need maintenance\n",
    "def update_status(lower):\n",
    "        for i in range(len(clean_df2)):\n",
    "            purchase = clean_df2.iloc[i][\"Purchase\"]\n",
    "            if(purchase > upper):\n",
    "                clean_df2.at[i, 'Status'] = \"Outlier\"\n",
    "            else:\n",
    "                clean_df2.at[i, 'Status'] = \"Inlier\""
   ]
  },
  {
   "cell_type": "code",
   "execution_count": 575,
   "metadata": {},
   "outputs": [],
   "source": [
    "update_status(lower)"
   ]
  },
  {
   "cell_type": "code",
   "execution_count": 580,
   "metadata": {},
   "outputs": [
    {
     "name": "stdout",
     "output_type": "stream",
     "text": [
      "Inlier     495507\n",
      "Outlier      2489\n",
      "Name: Status, dtype: int64\n",
      "Less than 1% of values in Purchase column are found to be outliers(using 1.5 IQR rule). So it is safe to remove them.\n"
     ]
    }
   ],
   "source": [
    "print(clean_df2.Status.value_counts())\n",
    "print(\"Less than 1% of values in Purchase column are found to be outliers(using 1.5 IQR rule). So it is safe to remove them.\")"
   ]
  },
  {
   "cell_type": "code",
   "execution_count": 585,
   "metadata": {},
   "outputs": [],
   "source": [
    "clean_df3 = clean_df2[clean_df2[\"Status\"] == 'Inlier'] # Filtering Outliers to not include them in data modeling and testing\n",
    "clean_df3 = clean_df3.drop(['Status'], axis=1) # Removing Status column"
   ]
  },
  {
   "cell_type": "code",
   "execution_count": 639,
   "metadata": {},
   "outputs": [
    {
     "name": "stdout",
     "output_type": "stream",
     "text": [
      "The MSE and MAE are:  {'MSE': 20439804.11112381, 'MAE': 3470.9441070185217}\n"
     ]
    }
   ],
   "source": [
    "Input = clean_df3.iloc[:,:40] # Selecting all columns as Input to the Model except Purchase\n",
    "Target = clean_df3.iloc[:,40] # Selecting Purchase as Target variable\n",
    "\n",
    "#Splitting data into train and test data. 20% data is kept for test data\n",
    "X_train, X_test, Y_train, Y_test = train_test_split(Input, Target, test_size=0.2, random_state=0) \n",
    "\n",
    "# Normalizing inputs\n",
    "X_train = (X_train - X_train.mean())/(X_train.max()-X_train.min()) #Normalizing Train data\n",
    "X_test = (X_test - X_test.mean())/(X_test.max()-X_test.min())   ##Normalizing Test data\n",
    "\n",
    "regrI = LinearRegression()\n",
    "regrI.fit(X_train, Y_train) # Fitting Linear Regression model on the train data\n",
    "y_predI = regrI.predict(X_test) # Predicting Purchase values for the test data\n",
    "\n",
    "mseI = mean_squared_error(Y_test, y_predI)\n",
    "maeI = mean_absolute_error(Y_test, y_predI)\n",
    "\n",
    "outputI = {'MSE': mseI, 'MAE' : maeI}\n",
    "print(\"The MSE and MAE are: \", outputI)"
   ]
  },
  {
   "cell_type": "code",
   "execution_count": 638,
   "metadata": {},
   "outputs": [
    {
     "name": "stdout",
     "output_type": "stream",
     "text": [
      "Comparing the MAE and MSE of previous model and current model\n",
      "Without removing outliers:  {'MSE': 22149276.953706007, 'MAE': 3617.5969831701923}\n",
      "After removing outliers:  {'MSE': 20439804.11112381, 'MAE': 3470.9441070185217}\n"
     ]
    }
   ],
   "source": [
    "print(\"Comparing the MAE and MSE of previous model and current model\")\n",
    "print(\"Without removing outliers: \", output)\n",
    "print(\"After removing outliers: \", outputI)"
   ]
  },
  {
   "cell_type": "markdown",
   "metadata": {},
   "source": [
    "**The prediction efficiency has increased by approx. 4%.** This improved model will be used to test further data."
   ]
  },
  {
   "cell_type": "markdown",
   "metadata": {},
   "source": [
    "#### 3- Final Model Evaluation: Finally, after reaching the optimum model, load Black_Friday_Final_Test.csv dataset into a DataFrame. First apply all cleaning and feature engineering to this DataFrame as well, and then apply the trained regression model from part 2 to get predicted values. Finally, calculate and report (print) MAE and MSE. (15%)"
   ]
  },
  {
   "cell_type": "code",
   "execution_count": 609,
   "metadata": {},
   "outputs": [],
   "source": [
    "# loading test data in a dataframe\n",
    "df_Test = pd.read_csv('/Users/Mansi/Documents/INF1340H/Final Project/Black_Friday_Final_Test.csv',low_memory=False)"
   ]
  },
  {
   "cell_type": "code",
   "execution_count": 611,
   "metadata": {},
   "outputs": [],
   "source": [
    "clean_df_Test = clean_data(df_Test)  # Cleaning the dataset using clean_data function"
   ]
  },
  {
   "cell_type": "code",
   "execution_count": 616,
   "metadata": {},
   "outputs": [],
   "source": [
    "# Creating dummies for categorical features\n",
    "clean_df_test_encoded = pd.concat([clean_df_Test,pd.get_dummies(clean_df_Test['Gender'], prefix='Gender')],axis=1).drop(['Gender'],axis=1)\n",
    "clean_df_test_encoded = pd.concat([clean_df_test_encoded,pd.get_dummies(clean_df_test_encoded['Occupation'], prefix='Occupation')],axis=1).drop(['Occupation'],axis=1)\n",
    "clean_df_test_encoded = pd.concat([clean_df_test_encoded,pd.get_dummies(clean_df_test_encoded['City_Category'], prefix='City_Category')],axis=1).drop(['City_Category'],axis=1)\n",
    "clean_df_test_encoded = pd.concat([clean_df_test_encoded,pd.get_dummies(clean_df_test_encoded['Stay_In_Current_City_Year'], prefix='Stay_In_Current_City_Year')],axis=1).drop(['Stay_In_Current_City_Year'],axis=1)\n",
    "clean_df_test_encoded = pd.concat([clean_df_test_encoded,pd.get_dummies(clean_df_test_encoded['New_AgeGrp'], prefix='Age')],axis=1).drop(['New_AgeGrp'],axis=1)\n",
    "clean_df_test_encoded = pd.concat([clean_df_test_encoded,pd.get_dummies(clean_df_test_encoded['Marital_Status'], prefix='Marital_Status')],axis=1).drop(['Marital_Status'],axis=1)"
   ]
  },
  {
   "cell_type": "code",
   "execution_count": 617,
   "metadata": {},
   "outputs": [],
   "source": [
    "# dropping User_ID and Product_ID columns\n",
    "clean_df_test_encoded = clean_df_test_encoded.drop(['User_ID'], axis=1)\n",
    "clean_df_test_encoded = clean_df_test_encoded.drop(['Product_ID'], axis=1)"
   ]
  },
  {
   "cell_type": "code",
   "execution_count": 618,
   "metadata": {},
   "outputs": [],
   "source": [
    "#Moving Purchase column to the end of the dataframe\n",
    "clean_df_test_encoded = clean_df_test_encoded.drop(columns=['Purchase']).assign(Purchase=clean_df_test_encoded['Purchase'])"
   ]
  },
  {
   "cell_type": "code",
   "execution_count": 623,
   "metadata": {},
   "outputs": [],
   "source": [
    "Input_test = clean_df_test_encoded.iloc[:,:40] #Assigning all columns as Input to the Model except Purchase\n",
    "Target_test = clean_df_test_encoded.iloc[:,40] #Assigning Purchase as Target variable\n",
    "\n",
    "Input_test = (Input_test - Input_test.mean())/(Input_test.max()-Input_test.min()) #Normalizing Train data"
   ]
  },
  {
   "cell_type": "code",
   "execution_count": 640,
   "metadata": {},
   "outputs": [
    {
     "name": "stdout",
     "output_type": "stream",
     "text": [
      "The MSE and MAE are:  {'MSE': 21263810.176531438, 'MAE': 3516.843343666004}\n"
     ]
    }
   ],
   "source": [
    "y_pred_test = regrI.predict(Input_test) # Predicting Purchase values for the test data using optimal model\n",
    "\n",
    "mse_test = mean_squared_error(Target_test, y_pred_test)\n",
    "mae_test = mean_absolute_error(Target_test, y_pred_test)\n",
    "\n",
    "output_test = {'MSE': mse_test, 'MAE' : mae_test}\n",
    "print(\"The MSE and MAE are: \", output_test)"
   ]
  }
 ],
 "metadata": {
  "kernelspec": {
   "display_name": "Python 3",
   "language": "python",
   "name": "python3"
  },
  "language_info": {
   "codemirror_mode": {
    "name": "ipython",
    "version": 3
   },
   "file_extension": ".py",
   "mimetype": "text/x-python",
   "name": "python",
   "nbconvert_exporter": "python",
   "pygments_lexer": "ipython3",
   "version": "3.8.3"
  }
 },
 "nbformat": 4,
 "nbformat_minor": 4
}
